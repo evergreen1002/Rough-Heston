{
 "cells": [
  {
   "cell_type": "markdown",
   "id": "27f35cac",
   "metadata": {},
   "source": [
    "### Rough Heston model \n",
    "The rough Heston model is given by\n",
    "$$dS_t = S_t\\sqrt{V_t}dW_t$$\n",
    "$$V_t = V_0 + \\frac{\\gamma}{\\Gamma(H + \\frac{1}{2})}\\int_{0}^{t}(t-s)^{H - \\frac{1}{2}}(\\theta - V_s)ds\n",
    " + \\frac{\\gamma \\nu}{\\Gamma(H + \\frac{1}{2})}\\int_{0}^{t}(t-s)^{H-\\frac{1}{2}}\\sqrt{V_s}dB_s$$\n",
    "    where $\\gamma, \\theta, \\nu, \\rho$ is the set of parameters, $W$ and $B$ are correlated with $\\rho$, and $V_0$ is known. \n",
    "    \n",
    "   Decompose the time interval $I = $\\[$0,T$\\] into $M$ uniform subintervals $I_n \\colon= [t_n, t_{n+1}]$ for $n = 0, 1,\\cdots,M-1$ of size $\\Delta = \\frac{T}{M}$, $t_n = n \\times \\Delta$, for $n=0,1,\\cdots,M$.\n",
    "   \n",
    "   Note that $t^{H-\\frac{1}{2}}\\approx \\sum_{j=1}^{N}\\omega_je^{-\\lambda_jt}$, where $\\{\\omega_j\\}_{j=1}^{N}$ and $\\{\\lambda_j\\}_{j=1}^{N}$ are unique for all $t \\in (0, T]$\n",
    "   \n",
    "   For $V_{t_i}$, let $F_{a,i} \\colon= \\int_{0}^{t_i}(t_i-s)^{H-\\frac{1}{2}}(\\theta - V_s)ds$, $F_{b,i} \\colon= \\int_{0}^{t_i}(t_i-s)^{H - \\frac{1}{2}}\\sqrt{V_s}dB_s$.    "
   ]
  },
  {
   "cell_type": "markdown",
   "id": "b63f2159",
   "metadata": {},
   "source": [
    "### Approximation for $F_{a,i}$\n",
    "   \n",
    "     \n",
    "  Let $F_{a,i}= \\sum_{j=1}^{N}\\omega_j\\int_{0}^{t_i}e^{-\\lambda_j(t_i -s)}(\\theta - V_s)ds \\colon= \\sum_{j=1}^{N}G_{a,i,j}^{1}$, where $G_a^{1}$ is an $M \\times N$ matrix, and $F_a$ is a $1 \\times M$ matrix.\n",
    "   \n",
    "   For $V_{i+1}$, $F_{a,i+1} = \\sum_{j=1}^{N}e^{-\\lambda_j\\Delta}(G_{a,i,j}^{1} + \\omega_j\\int_{t_i}^{t_{i+1}}e^{-\\lambda_j(t_i -s)}(\\theta - V_s)ds)$. \n",
    "   \n",
    "   Write $E_j \\colon= e^{-\\lambda_j \\Delta}$, where $E$ is a $1\\times N$ matrix. Let $G_{a,i+1,j}^{2} \\colon = \\omega_j\\int_{t_i}^{t_{i+1}}e^{-\\lambda_j(t_i -s)}(\\theta - V_s)ds)$ for $i = 1,2,\\cdots,M-1$,and $G_{a,1,j}^{2} =0$, where $G_{a}^{2}$ is an $M \\times N$ matrix. \n",
    "   \n",
    "   Therefore, $F_{a,i+1} = \\sum_{j=1}^{N}E_j(G_{a,i,j}^{1} + G_{a, i+1, j}^{2})$, for $i = 1,\\cdots,M-1$ and $F_{a,1} = \\sum_{j=1}^{N}G_{a,1,j}^{1}$.\n",
    "   \n",
    "   Clearly, from above, we have $G_{a,i+1,j}^{1} = E_j(G_{a,i,j}^{1} + G_{a, i+1, j}^{2})$, for $i = 1,\\cdots, M-1$. \n",
    "   \n",
    "   Hence, all we need to compute is $G_{a,1,j}^{1}$ and $G_{a, i+1, j}^{2}$ for $i = 1,\\cdots, M-1$ and $j=1,\\cdots, N$, total $M\\times N$ numbers. \n",
    "   \n",
    "   "
   ]
  },
  {
   "cell_type": "markdown",
   "id": "ea4a4500",
   "metadata": {},
   "source": [
    "#### Approximation for $G_{a,1,j}^{1}$ and $G_{a, i+1, j}^{2}$\n",
    "$G_{a,1,j}^{1} = \\frac{\\omega_j}{\\Delta}\\left((\\theta - V_0)\\int_{0}^{t_1}e^{-\\lambda_j(t_1 -s)}(t_1 - s)ds \n",
    "    + (\\theta - V_{t_{1}})\\int_{0}^{t_1}e^{-\\lambda_j(t_1 - s)}(s - t_0)ds\\right) \n",
    "       = \\frac{\\omega_j}{\\Delta}\\left((\\theta - V_0)C_{1,j,1} + (V_{t_1} - \\theta)C_{1,j,2}\\right)$\n",
    "    \n",
    "   $G_{a,{i+1},j}^{2} = \\frac{\\omega_j}{\\Delta}\\left((\\theta - V_{t_i})\\int_{t_i}^{t_{i+1}}e^{-\\lambda_j(t_i -s)}(t_{i+1}-s)ds + (\\theta - V_{t_{i+1}})\\int_{t_i}^{t_{i+1}}e^{-\\lambda_j(t_i-s)}(s-t_i)ds\\right)\n",
    "= \\frac{\\omega_j}{\\Delta}\\left((\\theta - V_{t_i})C_{i+1,j,1} + (\\theta - V_{t_{i+1}})C_{i+1,j,2}\\right)$ \n",
    "   \n",
    "   where $C$ is a 3-dim $M \\times N \\times 2$ tensor."
   ]
  },
  {
   "cell_type": "markdown",
   "id": "ba337bfe",
   "metadata": {},
   "source": [
    "### Approximation for $F_{b,i}$\n",
    "   Let $F_{b,i} = \\sum_{j=1}^{N}\\omega_j\\int_{0}^{t_i}e^{-\\lambda_j(t_i -s)}\\sqrt{V_s}dB_s \\colon=\\sum_{j=1}^{N}G_{b,i,j}^{1}$, where $G_{b}^1$ is an $M \\times N$ matrix, and $F_{b}$ is a $1\\times M$ matrix\n",
    "   \n",
    "   $F_{b,i+1} = \\sum_{j=1}^{N}e^{-\\lambda_j\\Delta}(G_{b,i,j}^{1} + \\omega_j\\int_{t_i}^{t_{i+1}}e^{-\\lambda_j(t_i -s)}\\sqrt{V_s}dB_s)$.\n",
    "   \n",
    "   Let $G_{b,i+1,j}^{2} = \\omega_j\\int_{t_i}^{t_{i+1}}e^{-\\lambda_j(t_i -s)}\\sqrt{V_s}dB_s$ for $i = 1,\\cdots, M-1$ and $G_{b,1,j}^{2} = 0$, where $G_b^2$ is an $M \\times N$ matrix.\n",
    "   \n",
    "   Therefore, $F_{b,i+1} = \\sum_{j=1}^{N}E_j(G_{b,i,j}^1 + G_{b,i+1,j}^2)$ for $i = 1,\\cdots,M-1$ and $F_{b,1} = \\sum_{j=1}^{N}G_{b,1,j}^1$. \n",
    "   \n",
    "   We have $G_{b,i+1,j}^1 = E_j(G_{b,i,j}^1 + G_{b,i+1,j}^2)$ for $i = 1,\\cdots, M-1$.\n",
    "   \n",
    "   Hence, we only need to compute $G_{b,1,j}^1$ and $G_{b,i+1,j}^2$ for $i = 1,\\cdots, M-1$ and $j = 1,\\cdots, N$, total $M \\times N$ numbers\n",
    "   \n",
    "\n"
   ]
  },
  {
   "cell_type": "markdown",
   "id": "f6923c03",
   "metadata": {},
   "source": [
    "#### Approximation for $G_{b,1,j}^1$ and $G_{b,i+1,j}^2$\n",
    "  $G_{b,1,j}^1 = \\frac{\\omega_j}{\\Delta}\\left(\\sqrt{V_0}\\int_{0}^{t_1}e^{-\\lambda_j(t_1 -s)}(t_1 -s)dB_s + \\sqrt{V_{t_1}}\\int_{0}^{t_1}e^{-\\lambda_j(t_1 -s)}(s -t_0)dB_s\\right)$\n",
    "    \n",
    "  $=\\frac{\\omega_j}{\\Delta}\\left(\\sqrt{V_0}\\Pi_{1,j,1} + \\sqrt{V_{t_1}}\\Pi_{1,j,2}\\right)$\n",
    "  \n",
    "  $G_{b,i+1,j}^{2} = \\frac{\\omega_j}{\\Delta}\\left(\\sqrt{V_{t_i}}\\int_{t_i}^{t_{i+1}}e^{-\\lambda_j(t_i -s)}(t_{i+1}-s)dB_s + \\sqrt{V_{t_{i+1}}}\\int_{t_i}^{t_{i+1}}e^{-\\lambda_j(t_i -s)}(s-t_i)dB_s\\right)$\n",
    "  \n",
    "  $= \\frac{\\omega_j}{\\Delta}\\left(\\sqrt{V_{t_i}}\\Pi_{i+1,j,1} + \\sqrt{V_{t_{i+1}}}\\Pi_{i+1, j,2}\\right)$\n",
    "  \n",
    "  where $\\Pi$ is a 3-dim $M \\times N \\times 2$ tensor. \n",
    "  \n",
    "  Note that for $\\Pi_{i,j,m} = \\int f_{i,j,m}dB_s \\sim N(0, \\Vert f_{i,j,m} \\Vert_2^2)$ for $i = 1,\\cdots, M$, $j= 1,\\cdots, N$, and $m = 1,2$.  \n",
    "  \n",
    "  \n"
   ]
  },
  {
   "cell_type": "code",
   "execution_count": null,
   "id": "9ec06fbc",
   "metadata": {},
   "outputs": [],
   "source": []
  }
 ],
 "metadata": {
  "kernelspec": {
   "display_name": "Python 3",
   "language": "python",
   "name": "python3"
  },
  "language_info": {
   "codemirror_mode": {
    "name": "ipython",
    "version": 3
   },
   "file_extension": ".py",
   "mimetype": "text/x-python",
   "name": "python",
   "nbconvert_exporter": "python",
   "pygments_lexer": "ipython3",
   "version": "3.8.8"
  }
 },
 "nbformat": 4,
 "nbformat_minor": 5
}
