{
 "cells": [
  {
   "cell_type": "markdown",
   "metadata": {},
   "source": [
    "Rough Heston Call prices\n",
    "---\n",
    "***"
   ]
  },
  {
   "cell_type": "code",
   "execution_count": 1,
   "metadata": {
    "ExecuteTime": {
     "end_time": "2022-12-02T01:35:03.654837Z",
     "start_time": "2022-12-02T01:35:03.174238Z"
    }
   },
   "outputs": [],
   "source": [
    "import numpy as np\n",
    "from scipy.stats import norm\n",
    "import matplotlib.pyplot as plt\n",
    "import time\n",
    "from scipy.optimize import bisect\n",
    "from scipy.special import gamma\n",
    "from scipy import integrate"
   ]
  },
  {
   "cell_type": "markdown",
   "metadata": {},
   "source": [
    "### Black-Scholes and implied volatility"
   ]
  },
  {
   "cell_type": "code",
   "execution_count": 2,
   "metadata": {
    "ExecuteTime": {
     "end_time": "2022-12-02T01:35:05.440003Z",
     "start_time": "2022-12-02T01:35:05.432764Z"
    }
   },
   "outputs": [],
   "source": [
    "def phi(x): ## Gaussian density\n",
    "    return np.exp(-x*x/2.)/np.sqrt(2*np.pi)\n",
    "\n",
    "#### Black Sholes Vega\n",
    "def BlackScholesVegaCore(DF,F,X,T,v):\n",
    "    vsqrt=v*np.sqrt(T)\n",
    "    d1 = (np.log(F/X)+(vsqrt*vsqrt/2.))/vsqrt\n",
    "    return F*phi(d1)*np.sqrt(T)/DF\n",
    "\n",
    "#### Black Sholes Function\n",
    "def BlackScholesCore(CallPutFlag,DF,F,X,T,v):\n",
    "    ## DF: discount factor\n",
    "    ## F: Forward\n",
    "    ## X: strike\n",
    "    vsqrt=v*np.sqrt(T)\n",
    "    d1 = (np.log(F/X)+(vsqrt*vsqrt/2.))/vsqrt\n",
    "    d2 = d1-vsqrt\n",
    "    if CallPutFlag:\n",
    "        return DF*(F*norm.cdf(d1)-X*norm.cdf(d2))\n",
    "    else:\n",
    "        return DF*(X*norm.cdf(-d2)-F*norm.cdf(-d1))\n",
    "    \n",
    "##  Black-Scholes Pricing Function\n",
    "def BlackScholes(CallPutFlag,S,X,T,r,d,v):\n",
    "    ## r, d: continuous interest rate and dividend\n",
    "    return BlackScholesCore(CallPutFlag,np.exp(-r*T),np.exp((r-d)*T)*S,X,T,v)\n",
    "\n",
    "def impliedvol(price,r,T,s0,K):\n",
    "    ## Bisection algorithm when the Lee-Li algorithm breaks down\n",
    "    def smileMin(vol, *args):\n",
    "        K, s0, T, r, price = args\n",
    "        return price - BlackScholes(True, s0, K, T, r, 0., vol)\n",
    "    vMin = 0.000001\n",
    "    vMax = 10.\n",
    "    return bisect(smileMin, vMin, vMax, args=(K, s0, T, r, price), rtol=1e-15, full_output=False, disp=True)"
   ]
  },
  {
   "cell_type": "markdown",
   "metadata": {},
   "source": [
    "## Rough Heston"
   ]
  },
  {
   "cell_type": "markdown",
   "metadata": {},
   "source": [
    "We consider the following for of rough Heston model:\n",
    "$d S_t = S_t\\sqrt{V_t}d B_t$, with \n",
    "$$\n",
    "V_t = V_0 + \\frac{1}{\\Gamma(H+\\frac{1}{2})}\\int_{0}^{t}K(t-u)\\Big(\\lambda(\\theta-V_u)du + \\lambda\\nu\\sqrt{V_u}dW_u\\Big),\n",
    "$$\n",
    "where the kernel is of the form $K(u) = u^{H-1/2}$, with $H \\in (0,1)$.\n",
    "The two Brownian motions $W$ and $B$ are correlated as $d\\langle W,B\\rangle_t = \\rho d t$, for $\\rho \\in [-1,1]$.\n",
    "We also use $\\alpha := H+\\frac{1}{2}$."
   ]
  },
  {
   "cell_type": "code",
   "execution_count": 3,
   "metadata": {
    "ExecuteTime": {
     "end_time": "2022-12-02T01:35:07.396831Z",
     "start_time": "2022-12-02T01:35:07.369850Z"
    }
   },
   "outputs": [],
   "source": [
    "# Heston model class\n",
    "class Heston_Analytical:\n",
    "\n",
    "    def __init__(self, dt, heston_params, T):\n",
    "        # Time discretisation parameters\n",
    "        self.dt = dt\n",
    "        self.T = T\n",
    "        self.n = int(self.T/self.dt)\n",
    "        self.time_grid = np.linspace(0., T, self.n + 1)\n",
    "\n",
    "        # Heston model paramters\n",
    "        self.S0 = heston_params['S0']\n",
    "        self.Gamma = heston_params['Gamma'] ## Corresponds to the parameter $\\lambda$ in the SDE\n",
    "        self.nu = heston_params['nu']\n",
    "        self.theta = heston_params['theta']\n",
    "        self.alpha = heston_params['alpha']\n",
    "        self.V0 = heston_params['V0']\n",
    "        self.rho = heston_params['rho']\n",
    "\n",
    "        # Precomputations to speed up pricing\n",
    "        self.gam_nu = self.Gamma*self.nu\n",
    "        self.rho_nu = self.rho*self.nu\n",
    "        self.frac = self.dt**self.alpha / gamma(self.alpha + 2.)\n",
    "        self.frac2 = self.dt**self.alpha / gamma(self.alpha + 1.)\n",
    "        self.frac_bar = 1. / gamma(1 - self.alpha)\n",
    "        self.fill_a()\n",
    "        self.fill_b()\n",
    "\n",
    "    # Fractional Riccati equation\n",
    "    def F(self, a, x):\n",
    "        return 0.5*(-a*a - 1j*a) + self.Gamma*(1j*a*self.rho_nu-1.)*x + self.gam_nu*self.gam_nu*x*x/2.\n",
    "\n",
    "    # Filling the coefficient a and b which don't depend on the characteristic function\n",
    "    def a(self, j, k):\n",
    "        if j == 0:\n",
    "            res = ((k-1.)**(self.alpha+1.) - (k-self.alpha-1.)*k**self.alpha)\n",
    "        elif j == k:\n",
    "            res = 1.\n",
    "        else:\n",
    "            res = ((k+1.-j)**(self.alpha+1.) + (k-1.-j)**(self.alpha+1.) - 2 * (k-j)**(self.alpha+1.))\n",
    "\n",
    "        return self.frac*res\n",
    "\n",
    "    def fill_a(self):\n",
    "        self.a_ = np.zeros(shape = (self.n+1, self.n+1))\n",
    "        for k in range(1, self.n + 1):\n",
    "            for j in range(k+1):\n",
    "                self.a_[j, k] = self.a(j, k)\n",
    "\n",
    "    def b(self, j, k):\n",
    "        return self.frac2 * ((k-j)**self.alpha - (k-j-1.)**self.alpha)\n",
    "\n",
    "    def fill_b(self):\n",
    "        self.b_ = np.zeros(shape = (self.n, self.n+1))\n",
    "        for k in range(1, self.n+1):\n",
    "            for j in range(k):\n",
    "                self.b_[j, k] = self.b(j, k)\n",
    "\n",
    "    # Computation of two sums used in the scheme\n",
    "    def h_P(self, a, k):\n",
    "        res = 0\n",
    "        for j in range(k):\n",
    "            res += self.b_[j, k] * self.F(a, self.h_hat[j])\n",
    "        return res\n",
    "\n",
    "    def sum_a(self, a, k):\n",
    "        res = 0\n",
    "        for j in range(k):\n",
    "            res += self.a_[j, k] * self.F(a, self.h_hat[j])\n",
    "        return res\n",
    "\n",
    "    # Solving function h for each time step\n",
    "    \n",
    "    def fill_h(self, a):\n",
    "        #行向量\n",
    "        self.h_hat = np.zeros((self.n+1), dtype=complex)\n",
    "        \n",
    "        for k in range(1, self.n+1):\n",
    "            h_P = self.h_P(a, k)\n",
    "            sum_a = self.sum_a(a, k)\n",
    "            self.h_hat[k] = sum_a + self.a_[k, k]*self.F(a, h_P)\n",
    "\n",
    "    # Characteristic function computation\n",
    "    def characteristic_function(self, a):\n",
    "        # Filling the h function\n",
    "        self.fill_h(a)\n",
    "\n",
    "        # Standard integral of the h function\n",
    "        integral = integrate.trapz(self.h_hat, self.time_grid)\n",
    "\n",
    "        # Fractional integral of the h function\n",
    "        func = lambda s: (self.T - s)**(- self.alpha)\n",
    "        \n",
    "        #piecewise constant approximation for frac_integral\n",
    "        y = np.array([func(self.time_grid[i]) * self.h_hat[i] for i in range(self.n)])\n",
    "        frac_integral = self.frac_bar * np.sum(y) * (self.time_grid[-1] - self.time_grid[-2])\n",
    "\n",
    "        # Characteristic function\n",
    "        return np.exp(self.theta * self.Gamma * integral + self.V0 * frac_integral)    \n",
    "    \n",
    "    #compute 1st and 2nd order partial derivative of h(a,s)\n",
    "    def h_pd(self, a, delta):\n",
    "        #1st order \n",
    "        self.fill_h(a + delta/2)\n",
    "        h_1_a = self.h_hat \n",
    "        \n",
    "        self.fill_h(a - delta/2)\n",
    "        h_1_b = self.h_hat\n",
    "        \n",
    "        p1 = (h_1_a - h_1_b)/delta        \n",
    "        \n",
    "        #2nd order \n",
    "        self.fill_h(a + delta)\n",
    "        h_2_a = self.h_hat\n",
    "        \n",
    "        self.fill_h(a)\n",
    "        h_2_b = self.h_hat\n",
    "        \n",
    "        self.fill_h(a - delta)\n",
    "        h_2_c = self.h_hat\n",
    "        \n",
    "        p2 = (h_2_a - 2*h_2_b + h_2_c)/(delta**2)\n",
    "        \n",
    "        return p1, p2\n",
    "    \n",
    "    #compute 1st and 2nd moment of X_i, i=1,...,n, by chara_func \n",
    "    def mymoment(self, i):\n",
    "        p1, p2 = self.h_pd(0, 0.001)\n",
    "        \n",
    "        integral_1 = integrate.trapz(p1[:i+1], self.time_grid[:i+1])\n",
    "        integral_2 = integrate.trapz(p2[:i+1], self.time_grid[:i+1])\n",
    "        \n",
    "        func = lambda s: (self.time_grid[i] - s)**(- self.alpha)\n",
    "        \n",
    "        y_1 = np.array([func(self.time_grid[j]) * p1[j] for j in range(i)])\n",
    "        frac_integral_1 = self.frac_bar * np.sum(y_1) * self.dt\n",
    "        \n",
    "        y_2 = np.array([func(self.time_grid[j]) * p2[j] for j in range(i)])\n",
    "        frac_integral_2 = self.frac_bar * np.sum(y_2) * self.dt\n",
    "        \n",
    "        G_1 = self.theta * self.Gamma * integral_1 + self.V0 * frac_integral_1\n",
    "        G_2 = self.theta * self.Gamma * integral_2 + self.V0 * frac_integral_2\n",
    "        \n",
    "        \n",
    "        M_1 = -1j  * G_1\n",
    "        M_2 = -1 * (G_1**2 + G_2)\n",
    "        \n",
    "        return M_1, M_2      \n",
    "   \n",
    "    # Pricing with an inverse Fourier transform\n",
    "    def price_call_rough(self, k):\n",
    "        K = self.S0*np.exp(k)\n",
    "        func = lambda u: np.real(np.exp(-1j*u*k)*self.characteristic_function(u - 0.5*1j))/(u**2 + 0.25)\n",
    "        x = np.linspace(0, 70, 300)\n",
    "        #从一个可迭代对象创建一个新的数组\n",
    "        y = np.fromiter((func(xi) for xi in x), dtype=float)\n",
    "        integ = integrate.trapz(y, x)\n",
    "        price = self.S0 - 1./np.pi * np.sqrt(self.S0*K) *integ\n",
    "        iv = impliedvol(price,0.,self.T,self.S0,K)\n",
    "        return price, iv\n",
    "\n",
    "    # Analytical formula for the standard Heston characteristic function\n",
    "    def classical_Heston_characteristic_function(self,u):\n",
    "        t = self.T\n",
    "        l = self.nu*self.Gamma\n",
    "        d = np.sqrt((self.rho*l*u*1j - self.Gamma)**2 + l**2 *(1j*u + u**2))\n",
    "        g = (self.Gamma - self.rho*l*1j*u - d)/(self.Gamma - self.rho*l*1j*u + d)\n",
    "        return np.exp(1j*u*(np.log(self.S0)))\\\n",
    "               *np.exp(self.theta*self.Gamma/l**2*((self.Gamma - self.rho*l*1j*u - d)*t - 2*np.log((1. - g*np.exp(-d*t))/(1. - g))))\\\n",
    "               *np.exp(self.V0/l**2*(self.Gamma - self.rho*l*1j*u - d)*(1. - np.exp(-d*t))/(1 - g*np.exp(-d*t)))\n",
    "    \n",
    "    # Pricing with an inverse Fourier transform\n",
    "    def price_call_classical(self, k):\n",
    "        K = self.S0 * np.exp(k)\n",
    "        func = lambda u: np.real (np.exp (-1j * u * k) * self.classical_Heston_characteristic_function (u - 0.5 * 1j)) / (u ** 2 + 0.25)\n",
    "        x = integrate.quad(func, 0, np.inf)\n",
    "        self.classicalPrice = self.S0 - 1 / np.pi * np.sqrt (self.S0 * K) * x[0]\n",
    "        return self.classicalPrice"
   ]
  },
  {
   "cell_type": "code",
   "execution_count": 4,
   "metadata": {
    "ExecuteTime": {
     "end_time": "2022-12-02T01:35:07.965387Z",
     "start_time": "2022-12-02T01:35:07.954987Z"
    }
   },
   "outputs": [],
   "source": [
    "# Heston parameters\n",
    "Gamma = .1\n",
    "nu = .331\n",
    "alpha = 0.62\n",
    "rho = -0.01\n",
    "V0 = 0.0392\n",
    "theta = 0.3156\n",
    "S0 = 1.\n",
    "dt = 0.01\n",
    "T = 0.5\n",
    "heston_params = {'Gamma': Gamma, 'nu': nu, 'alpha': alpha, 'rho': rho, 'V0': V0, 'theta': theta, 'S0': S0}"
   ]
  },
  {
   "cell_type": "code",
   "execution_count": 5,
   "metadata": {
    "ExecuteTime": {
     "end_time": "2022-12-02T01:35:08.646896Z",
     "start_time": "2022-12-02T01:35:08.630797Z"
    }
   },
   "outputs": [],
   "source": [
    "he = Heston_Analytical(dt, heston_params, T)"
   ]
  },
  {
   "cell_type": "code",
   "execution_count": 6,
   "metadata": {
    "ExecuteTime": {
     "end_time": "2022-12-02T01:35:13.980413Z",
     "start_time": "2022-12-02T01:35:09.196339Z"
    }
   },
   "outputs": [
    {
     "name": "stdout",
     "output_type": "stream",
     "text": [
      "[[-0.00000505 -0.00011102 -0.00023896 -0.00038062 -0.00053231 -0.00069197\n",
      "  -0.00085827 -0.0010303  -0.00120741 -0.00138908 -0.00157492 -0.0017646\n",
      "  -0.00195786 -0.00215447 -0.00235425 -0.00255702 -0.00276265 -0.00297101\n",
      "  -0.00318198 -0.00339547 -0.00361138 -0.00382963 -0.00405015 -0.00427286\n",
      "  -0.00449771 -0.00472463 -0.00495358 -0.0051845  -0.00541734 -0.00565206\n",
      "  -0.00588863 -0.00612699 -0.00636712 -0.00660898 -0.00685254 -0.00709776\n",
      "  -0.00734463 -0.0075931  -0.00784316 -0.00809478 -0.00834794 -0.0086026\n",
      "  -0.00885876 -0.00911638 -0.00937546 -0.00963596 -0.00989787 -0.01016117\n",
      "  -0.01042585 -0.01069189]\n",
      " [ 0.0000101   0.00022206  0.00047798  0.0007614   0.00106494  0.00138446\n",
      "   0.00171734  0.00206176  0.0024164   0.00278024  0.0031525   0.00353253\n",
      "   0.00391981  0.00431389  0.00471439  0.00512099  0.00553339  0.00595135\n",
      "   0.00637466  0.00680309  0.00723649  0.00767468  0.00811753  0.00856488\n",
      "   0.00901663  0.00947265  0.00993284  0.0103971   0.01086534  0.01133748\n",
      "   0.01181343  0.01229312  0.01277649  0.01326345  0.01375395  0.01424794\n",
      "   0.01474535  0.01524613  0.01575023  0.0162576   0.0167682   0.01728198\n",
      "   0.0177989   0.01831891  0.01884199  0.01936809  0.01989718  0.02042922\n",
      "   0.02096419  0.02150204]]\n"
     ]
    }
   ],
   "source": [
    "#compute 1st and 2nd moment of X_1, X_2,...,X_n\n",
    "moment = np.real(np.array([[he.mymoment(i)[0] for i in range(1,he.n+1)], [he.mymoment(j)[1] for j in range(1, he.n+1)]]))\n",
    "np.set_printoptions(suppress=True)\n",
    "print(moment)"
   ]
  },
  {
   "cell_type": "code",
   "execution_count": 8,
   "metadata": {
    "ExecuteTime": {
     "end_time": "2022-12-02T01:35:22.344654Z",
     "start_time": "2022-12-02T01:35:22.330653Z"
    }
   },
   "outputs": [],
   "source": [
    "moment.tofile(\"ref_moment.bin\")"
   ]
  },
  {
   "cell_type": "code",
   "execution_count": null,
   "metadata": {
    "ExecuteTime": {
     "end_time": "2022-12-01T14:32:48.754024Z",
     "start_time": "2022-12-01T14:32:11.514451Z"
    }
   },
   "outputs": [],
   "source": [
    "logMoneynesses = np.linspace(-0.25, 0.25, 10)\n",
    "strikes = [S0*np.exp(k) for k in logMoneynesses]\n",
    "\n",
    "he = Heston_Analytical(dt, heston_params, T)\n",
    "ccs, ivs = [], []\n",
    "for k in logMoneynesses:\n",
    "    c, v = he.price_call_rough(k)\n",
    "    ccs.append(c)\n",
    "    ivs.append(v)\n",
    "\n",
    "plt.plot(logMoneynesses, ccs, 'b', label='alpha= %.1f' %he.alpha)\n",
    "plt.legend(loc=\"best\")\n",
    "plt.xlabel(\"log-strike\")\n",
    "plt.title(\"Call prices\")\n",
    "plt.show()\n",
    "\n",
    "plt.plot(logMoneynesses, ivs, 'b', label='alpha= %.1f' %he.alpha)\n",
    "plt.legend(loc=\"best\")\n",
    "plt.xlabel(\"log-strike\")\n",
    "plt.title(\"Implied volatility\")\n",
    "plt.show()"
   ]
  },
  {
   "cell_type": "code",
   "execution_count": null,
   "metadata": {},
   "outputs": [],
   "source": []
  }
 ],
 "metadata": {
  "kernelspec": {
   "display_name": "Python 3",
   "language": "python",
   "name": "python3"
  },
  "language_info": {
   "codemirror_mode": {
    "name": "ipython",
    "version": 3
   },
   "file_extension": ".py",
   "mimetype": "text/x-python",
   "name": "python",
   "nbconvert_exporter": "python",
   "pygments_lexer": "ipython3",
   "version": "3.8.8"
  }
 },
 "nbformat": 4,
 "nbformat_minor": 4
}
