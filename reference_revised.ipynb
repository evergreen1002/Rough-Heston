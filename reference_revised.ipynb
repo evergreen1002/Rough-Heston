{
 "cells": [
  {
   "cell_type": "markdown",
   "metadata": {},
   "source": [
    "Rough Heston Call prices\n",
    "---\n",
    "***"
   ]
  },
  {
   "cell_type": "code",
   "execution_count": 1,
   "metadata": {
    "ExecuteTime": {
     "end_time": "2022-12-02T01:35:03.654837Z",
     "start_time": "2022-12-02T01:35:03.174238Z"
    },
    "execution": {
     "iopub.execute_input": "2022-12-20T03:51:31.808886Z",
     "iopub.status.busy": "2022-12-20T03:51:31.808584Z",
     "iopub.status.idle": "2022-12-20T03:51:44.208919Z",
     "shell.execute_reply": "2022-12-20T03:51:44.208475Z",
     "shell.execute_reply.started": "2022-12-20T03:51:31.808826Z"
    },
    "tags": []
   },
   "outputs": [],
   "source": [
    "import numpy as np\n",
    "from scipy.stats import norm\n",
    "import matplotlib.pyplot as plt\n",
    "import time\n",
    "from scipy.optimize import bisect\n",
    "from scipy.special import gamma\n",
    "from scipy import integrate"
   ]
  },
  {
   "cell_type": "markdown",
   "metadata": {},
   "source": [
    "### Black-Scholes and implied volatility"
   ]
  },
  {
   "cell_type": "code",
   "execution_count": 2,
   "metadata": {
    "ExecuteTime": {
     "end_time": "2022-12-02T01:35:05.440003Z",
     "start_time": "2022-12-02T01:35:05.432764Z"
    },
    "execution": {
     "iopub.execute_input": "2022-12-20T03:51:48.593130Z",
     "iopub.status.busy": "2022-12-20T03:51:48.592749Z",
     "iopub.status.idle": "2022-12-20T03:51:48.599677Z",
     "shell.execute_reply": "2022-12-20T03:51:48.599303Z",
     "shell.execute_reply.started": "2022-12-20T03:51:48.593108Z"
    },
    "tags": []
   },
   "outputs": [],
   "source": [
    "def phi(x): ## Gaussian density\n",
    "    return np.exp(-x*x/2.)/np.sqrt(2*np.pi)\n",
    "\n",
    "#### Black Sholes Vega\n",
    "def BlackScholesVegaCore(DF,F,X,T,v):\n",
    "    vsqrt=v*np.sqrt(T)\n",
    "    d1 = (np.log(F/X)+(vsqrt*vsqrt/2.))/vsqrt\n",
    "    return F*phi(d1)*np.sqrt(T)/DF\n",
    "\n",
    "#### Black Sholes Function\n",
    "def BlackScholesCore(CallPutFlag,DF,F,X,T,v):\n",
    "    ## DF: discount factor\n",
    "    ## F: Forward\n",
    "    ## X: strike\n",
    "    vsqrt=v*np.sqrt(T)\n",
    "    d1 = (np.log(F/X)+(vsqrt*vsqrt/2.))/vsqrt\n",
    "    d2 = d1-vsqrt\n",
    "    if CallPutFlag:\n",
    "        return DF*(F*norm.cdf(d1)-X*norm.cdf(d2))\n",
    "    else:\n",
    "        return DF*(X*norm.cdf(-d2)-F*norm.cdf(-d1))\n",
    "    \n",
    "##  Black-Scholes Pricing Function\n",
    "def BlackScholes(CallPutFlag,S,X,T,r,d,v):\n",
    "    ## r, d: continuous interest rate and dividend\n",
    "    return BlackScholesCore(CallPutFlag,np.exp(-r*T),np.exp((r-d)*T)*S,X,T,v)\n",
    "\n",
    "def impliedvol(price,r,T,s0,K):\n",
    "    ## Bisection algorithm when the Lee-Li algorithm breaks down\n",
    "    def smileMin(vol, *args):\n",
    "        K, s0, T, r, price = args\n",
    "        return price - BlackScholes(True, s0, K, T, r, 0., vol)\n",
    "    vMin = 0.000001\n",
    "    vMax = 10.\n",
    "    return bisect(smileMin, vMin, vMax, args=(K, s0, T, r, price), rtol=1e-15, full_output=False, disp=True)"
   ]
  },
  {
   "cell_type": "markdown",
   "metadata": {},
   "source": [
    "## Rough Heston"
   ]
  },
  {
   "cell_type": "markdown",
   "metadata": {},
   "source": [
    "We consider the following for of rough Heston model:\n",
    "$d S_t = S_t\\sqrt{V_t}d B_t$, with \n",
    "$$\n",
    "V_t = V_0 + \\frac{1}{\\Gamma(H+\\frac{1}{2})}\\int_{0}^{t}K(t-u)\\Big(\\lambda(\\theta-V_u)du + \\lambda\\nu\\sqrt{V_u}dW_u\\Big),\n",
    "$$\n",
    "where the kernel is of the form $K(u) = u^{H-1/2}$, with $H \\in (0,1)$.\n",
    "The two Brownian motions $W$ and $B$ are correlated as $d\\langle W,B\\rangle_t = \\rho d t$, for $\\rho \\in [-1,1]$.\n",
    "We also use $\\alpha := H+\\frac{1}{2}$."
   ]
  },
  {
   "cell_type": "code",
   "execution_count": 3,
   "metadata": {
    "ExecuteTime": {
     "end_time": "2022-12-02T01:35:07.396831Z",
     "start_time": "2022-12-02T01:35:07.369850Z"
    },
    "execution": {
     "iopub.execute_input": "2022-12-20T03:51:50.449693Z",
     "iopub.status.busy": "2022-12-20T03:51:50.449434Z",
     "iopub.status.idle": "2022-12-20T03:51:50.507737Z",
     "shell.execute_reply": "2022-12-20T03:51:50.507331Z",
     "shell.execute_reply.started": "2022-12-20T03:51:50.449677Z"
    },
    "tags": []
   },
   "outputs": [],
   "source": [
    "# Heston model class\n",
    "class Heston_Analytical:\n",
    "\n",
    "    def __init__(self, dt, heston_params, T):\n",
    "        # Time discretisation parameters\n",
    "        self.dt = dt\n",
    "        self.T = T\n",
    "        self.n = int(self.T/self.dt)\n",
    "        self.time_grid = np.linspace(0., T, self.n + 1)\n",
    "\n",
    "        # Heston model paramters\n",
    "        self.S0 = heston_params['S0']\n",
    "        self.Gamma = heston_params['Gamma'] ## Corresponds to the parameter $\\lambda$ in the SDE\n",
    "        self.nu = heston_params['nu']\n",
    "        self.theta = heston_params['theta']\n",
    "        self.alpha = heston_params['alpha']\n",
    "        self.V0 = heston_params['V0']\n",
    "        self.rho = heston_params['rho']\n",
    "\n",
    "        # Precomputations to speed up pricing\n",
    "        self.gam_nu = self.Gamma*self.nu\n",
    "        self.rho_nu = self.rho*self.nu\n",
    "        self.frac = self.dt**self.alpha / gamma(self.alpha + 2.)\n",
    "        self.frac2 = self.dt**self.alpha / gamma(self.alpha + 1.)\n",
    "        self.frac_bar = 1. / gamma(1 - self.alpha)\n",
    "        self.fill_a()\n",
    "        self.fill_b()\n",
    "\n",
    "    # Fractional Riccati equation\n",
    "    def F(self, a, x):\n",
    "        return 0.5*(-a*a - 1j*a) + self.Gamma*(1j*a*self.rho_nu-1.)*x + self.gam_nu*self.gam_nu*x*x/2.\n",
    "\n",
    "    # Filling the coefficient a and b which don't depend on the characteristic function\n",
    "    def a(self, j, k):\n",
    "        if j == 0:\n",
    "            res = ((k-1.)**(self.alpha+1.) - (k-self.alpha-1.)*k**self.alpha)\n",
    "        elif j == k:\n",
    "            res = 1.\n",
    "        else:\n",
    "            res = ((k+1.-j)**(self.alpha+1.) + (k-1.-j)**(self.alpha+1.) - 2 * (k-j)**(self.alpha+1.))\n",
    "\n",
    "        return self.frac*res\n",
    "\n",
    "    def fill_a(self):\n",
    "        self.a_ = np.zeros(shape = (self.n+1, self.n+1))\n",
    "        for k in range(1, self.n + 1):\n",
    "            for j in range(k+1):\n",
    "                self.a_[j, k] = self.a(j, k)\n",
    "\n",
    "    def b(self, j, k):\n",
    "        return self.frac2 * ((k-j)**self.alpha - (k-j-1.)**self.alpha)\n",
    "\n",
    "    def fill_b(self):\n",
    "        self.b_ = np.zeros(shape = (self.n, self.n+1))\n",
    "        for k in range(1, self.n+1):\n",
    "            for j in range(k):\n",
    "                self.b_[j, k] = self.b(j, k)\n",
    "\n",
    "    # Computation of two sums used in the scheme\n",
    "    def h_P(self, a, k):\n",
    "        res = 0\n",
    "        for j in range(k):\n",
    "            res += self.b_[j, k] * self.F(a, self.h_hat[j])\n",
    "        return res\n",
    "\n",
    "    def sum_a(self, a, k):\n",
    "        res = 0\n",
    "        for j in range(k):\n",
    "            res += self.a_[j, k] * self.F(a, self.h_hat[j])\n",
    "        return res\n",
    "\n",
    "    # Solving function h for each time step\n",
    "    \n",
    "    def fill_h(self, a):\n",
    "        #行向量\n",
    "        self.h_hat = np.zeros((self.n+1), dtype=complex)\n",
    "        \n",
    "        for k in range(1, self.n+1):\n",
    "            h_P = self.h_P(a, k)\n",
    "            sum_a = self.sum_a(a, k)\n",
    "            self.h_hat[k] = sum_a + self.a_[k, k]*self.F(a, h_P)\n",
    "\n",
    "    # Characteristic function computation\n",
    "    def characteristic_function(self, a):\n",
    "        # Filling the h function\n",
    "        self.fill_h(a)\n",
    "\n",
    "        # Standard integral of the h function\n",
    "        integral = integrate.trapz(self.h_hat, self.time_grid)\n",
    "\n",
    "        # Fractional integral of the h function\n",
    "        func = lambda s: (self.T - s)**(- self.alpha)\n",
    "        \n",
    "        #piecewise constant approximation for frac_integral\n",
    "        y = np.array([func(self.time_grid[i]) * self.h_hat[i] for i in range(self.n)])\n",
    "        frac_integral = self.frac_bar * np.sum(y) * (self.time_grid[-1] - self.time_grid[-2])\n",
    "\n",
    "        # Characteristic function\n",
    "        return np.exp(self.theta * self.Gamma * integral + self.V0 * frac_integral)    \n",
    "    \n",
    "    #compute 1st and 2nd order partial derivative of h(a,s)\n",
    "    def h_pd(self, a, delta):\n",
    "        #1st order \n",
    "        self.fill_h(a + delta/2)\n",
    "        h_1_a = self.h_hat \n",
    "        \n",
    "        self.fill_h(a - delta/2)\n",
    "        h_1_b = self.h_hat\n",
    "        \n",
    "        p1 = (h_1_a - h_1_b)/delta        \n",
    "        \n",
    "        #2nd order \n",
    "        self.fill_h(a + delta)\n",
    "        h_2_a = self.h_hat\n",
    "        \n",
    "        self.fill_h(a)\n",
    "        h_2_b = self.h_hat\n",
    "        \n",
    "        self.fill_h(a - delta)\n",
    "        h_2_c = self.h_hat\n",
    "        \n",
    "        p2 = (h_2_a - 2*h_2_b + h_2_c)/(delta**2)\n",
    "        \n",
    "        return p1, p2\n",
    "    \n",
    "    #compute 1st and 2nd moment of X_i, i=1,...,n, by chara_func \n",
    "    def mymoment(self, i):\n",
    "        p1, p2 = self.h_pd(0, 0.0001)\n",
    "        \n",
    "        integral_1 = integrate.trapz(p1[:i+1], self.time_grid[:i+1])\n",
    "        integral_2 = integrate.trapz(p2[:i+1], self.time_grid[:i+1])\n",
    "        \n",
    "        func = lambda s: (self.time_grid[i] - s)**(- self.alpha)\n",
    "        \n",
    "        y_1 = np.array([func(self.time_grid[j]) * p1[j] for j in range(i)])\n",
    "        frac_integral_1 = self.frac_bar * np.sum(y_1) * self.dt\n",
    "        \n",
    "        y_2 = np.array([func(self.time_grid[j]) * p2[j] for j in range(i)])\n",
    "        frac_integral_2 = self.frac_bar * np.sum(y_2) * self.dt\n",
    "        \n",
    "        G_1 = self.theta * self.Gamma * integral_1 + self.V0 * frac_integral_1\n",
    "        G_2 = self.theta * self.Gamma * integral_2 + self.V0 * frac_integral_2\n",
    "        \n",
    "        \n",
    "        M_1 = -1j  * G_1\n",
    "        M_2 = -1 * (G_1**2 + G_2)\n",
    "        \n",
    "        return M_1, M_2      \n",
    "   \n",
    "    # Pricing with an inverse Fourier transform\n",
    "    def price_call_rough(self, k):\n",
    "        K = self.S0*np.exp(k)\n",
    "        func = lambda u: np.real(np.exp(-1j*u*k)*self.characteristic_function(u - 0.5*1j))/(u**2 + 0.25)\n",
    "        x = np.linspace(0, 70, 300)\n",
    "        #从一个可迭代对象创建一个新的数组\n",
    "        y = np.fromiter((func(xi) for xi in x), dtype=float)\n",
    "        integ = integrate.trapz(y, x)\n",
    "        price = self.S0 - 1./np.pi * np.sqrt(self.S0*K) *integ\n",
    "        iv = impliedvol(price,0.,self.T,self.S0,K)\n",
    "        return price, iv\n",
    "\n",
    "    # Analytical formula for the standard Heston characteristic function\n",
    "    def classical_Heston_characteristic_function(self,u):\n",
    "        t = self.T\n",
    "        l = self.nu*self.Gamma\n",
    "        d = np.sqrt((self.rho*l*u*1j - self.Gamma)**2 + l**2 *(1j*u + u**2))\n",
    "        g = (self.Gamma - self.rho*l*1j*u - d)/(self.Gamma - self.rho*l*1j*u + d)\n",
    "        return np.exp(1j*u*(np.log(self.S0)))\\\n",
    "               *np.exp(self.theta*self.Gamma/l**2*((self.Gamma - self.rho*l*1j*u - d)*t - 2*np.log((1. - g*np.exp(-d*t))/(1. - g))))\\\n",
    "               *np.exp(self.V0/l**2*(self.Gamma - self.rho*l*1j*u - d)*(1. - np.exp(-d*t))/(1 - g*np.exp(-d*t)))\n",
    "    \n",
    "    # Pricing with an inverse Fourier transform\n",
    "    def price_call_classical(self, k):\n",
    "        K = self.S0 * np.exp(k)\n",
    "        func = lambda u: np.real (np.exp (-1j * u * k) * self.classical_Heston_characteristic_function (u - 0.5 * 1j)) / (u ** 2 + 0.25)\n",
    "        x = integrate.quad(func, 0, np.inf)\n",
    "        self.classicalPrice = self.S0 - 1 / np.pi * np.sqrt (self.S0 * K) * x[0]\n",
    "        return self.classicalPrice"
   ]
  },
  {
   "cell_type": "code",
   "execution_count": 4,
   "metadata": {
    "ExecuteTime": {
     "end_time": "2022-12-02T01:35:07.965387Z",
     "start_time": "2022-12-02T01:35:07.954987Z"
    },
    "execution": {
     "iopub.execute_input": "2022-12-20T03:51:51.507109Z",
     "iopub.status.busy": "2022-12-20T03:51:51.506837Z",
     "iopub.status.idle": "2022-12-20T03:51:51.510037Z",
     "shell.execute_reply": "2022-12-20T03:51:51.509648Z",
     "shell.execute_reply.started": "2022-12-20T03:51:51.507091Z"
    },
    "tags": []
   },
   "outputs": [],
   "source": [
    "# Heston parameters\n",
    "Gamma = .1\n",
    "nu = .331\n",
    "alpha = 0.62\n",
    "rho = -0.01\n",
    "V0 = 0.0392\n",
    "theta = 0.3156\n",
    "S0 = 1.\n",
    "dt = 0.001\n",
    "T = 0.5\n",
    "heston_params = {'Gamma': Gamma, 'nu': nu, 'alpha': alpha, 'rho': rho, 'V0': V0, 'theta': theta, 'S0': S0}"
   ]
  },
  {
   "cell_type": "code",
   "execution_count": 5,
   "metadata": {
    "ExecuteTime": {
     "end_time": "2022-12-02T01:35:08.646896Z",
     "start_time": "2022-12-02T01:35:08.630797Z"
    },
    "execution": {
     "iopub.execute_input": "2022-12-20T03:51:52.833140Z",
     "iopub.status.busy": "2022-12-20T03:51:52.832865Z",
     "iopub.status.idle": "2022-12-20T03:51:52.970514Z",
     "shell.execute_reply": "2022-12-20T03:51:52.970084Z",
     "shell.execute_reply.started": "2022-12-20T03:51:52.833123Z"
    },
    "tags": []
   },
   "outputs": [],
   "source": [
    "he = Heston_Analytical(dt, heston_params, T)"
   ]
  },
  {
   "cell_type": "code",
   "execution_count": 6,
   "metadata": {
    "ExecuteTime": {
     "end_time": "2022-12-02T01:35:13.980413Z",
     "start_time": "2022-12-02T01:35:09.196339Z"
    },
    "execution": {
     "iopub.execute_input": "2022-12-02T10:12:03.055619Z",
     "iopub.status.busy": "2022-12-02T10:12:03.055352Z",
     "iopub.status.idle": "2022-12-02T10:32:24.705080Z",
     "shell.execute_reply": "2022-12-02T10:32:24.704530Z",
     "shell.execute_reply.started": "2022-12-02T10:12:03.055600Z"
    }
   },
   "outputs": [
    {
     "name": "stdout",
     "output_type": "stream",
     "text": [
      "[[-0.00000012 -0.00000978 -0.00002129 -0.0000339  -0.00004727 -0.0000612\n",
      "  -0.00007559 -0.00009035 -0.00010544 -0.0001208  -0.00013641 -0.00015225\n",
      "  -0.00016828 -0.0001845  -0.00020088 -0.00021743 -0.00023412 -0.00025094\n",
      "  -0.0002679  -0.00028498 -0.00030217 -0.00031948 -0.00033689 -0.0003544\n",
      "  -0.000372   -0.0003897  -0.00040749 -0.00042537 -0.00044333 -0.00046137\n",
      "  -0.00047948 -0.00049768 -0.00051594 -0.00053428 -0.00055269 -0.00057117\n",
      "  -0.00058971 -0.00060832 -0.00062699 -0.00064572 -0.00066451 -0.00068336\n",
      "  -0.00070227 -0.00072124 -0.00074026 -0.00075934 -0.00077847 -0.00079765\n",
      "  -0.00081689 -0.00083618 -0.00085551 -0.0008749  -0.00089433 -0.00091382\n",
      "  -0.00093335 -0.00095292 -0.00097255 -0.00099221 -0.00101193 -0.00103168\n",
      "  -0.00105148 -0.00107133 -0.00109121 -0.00111114 -0.00113111 -0.00115112\n",
      "  -0.00117117 -0.00119126 -0.00121139 -0.00123156 -0.00125177 -0.00127201\n",
      "  -0.0012923  -0.00131262 -0.00133298 -0.00135337 -0.00137381 -0.00139428\n",
      "  -0.00141478 -0.00143532 -0.0014559  -0.00147651 -0.00149715 -0.00151783\n",
      "  -0.00153855 -0.00155929 -0.00158007 -0.00160089 -0.00162173 -0.00164261\n",
      "  -0.00166353 -0.00168447 -0.00170545 -0.00172646 -0.00174749 -0.00176857\n",
      "  -0.00178967 -0.0018108  -0.00183196 -0.00185316 -0.00187438 -0.00189564\n",
      "  -0.00191692 -0.00193823 -0.00195958 -0.00198095 -0.00200235 -0.00202378\n",
      "  -0.00204524 -0.00206673 -0.00208825 -0.00210979 -0.00213136 -0.00215296\n",
      "  -0.00217459 -0.00219625 -0.00221793 -0.00223964 -0.00226138 -0.00228315\n",
      "  -0.00230494 -0.00232676 -0.0023486  -0.00237047 -0.00239237 -0.00241429\n",
      "  -0.00243624 -0.00245822 -0.00248022 -0.00250225 -0.0025243  -0.00254638\n",
      "  -0.00256849 -0.00259061 -0.00261277 -0.00263495 -0.00265715 -0.00267938\n",
      "  -0.00270163 -0.00272391 -0.00274621 -0.00276854 -0.00279089 -0.00281327\n",
      "  -0.00283567 -0.00285809 -0.00288054 -0.00290301 -0.0029255  -0.00294802\n",
      "  -0.00297056 -0.00299312 -0.00301571 -0.00303832 -0.00306095 -0.00308361\n",
      "  -0.00310629 -0.00312899 -0.00315172 -0.00317446 -0.00319723 -0.00322003\n",
      "  -0.00324284 -0.00326568 -0.00328854 -0.00331142 -0.00333432 -0.00335725\n",
      "  -0.0033802  -0.00340317 -0.00342616 -0.00344917 -0.0034722  -0.00349526\n",
      "  -0.00351834 -0.00354144 -0.00356456 -0.0035877  -0.00361086 -0.00363404\n",
      "  -0.00365725 -0.00368047 -0.00370372 -0.00372699 -0.00375027 -0.00377358\n",
      "  -0.00379691 -0.00382026 -0.00384363 -0.00386702 -0.00389043 -0.00391387\n",
      "  -0.00393732 -0.00396079 -0.00398428 -0.00400779 -0.00403133 -0.00405488\n",
      "  -0.00407845 -0.00410204 -0.00412565 -0.00414928 -0.00417294 -0.00419661\n",
      "  -0.0042203  -0.00424401 -0.00426774 -0.00429148 -0.00431525 -0.00433904\n",
      "  -0.00436285 -0.00438667 -0.00441052 -0.00443438 -0.00445827 -0.00448217\n",
      "  -0.00450609 -0.00453003 -0.00455399 -0.00457797 -0.00460196 -0.00462598\n",
      "  -0.00465001 -0.00467406 -0.00469814 -0.00472222 -0.00474633 -0.00477046\n",
      "  -0.0047946  -0.00481877 -0.00484295 -0.00486715 -0.00489137 -0.0049156\n",
      "  -0.00493986 -0.00496413 -0.00498842 -0.00501273 -0.00503706 -0.0050614\n",
      "  -0.00508576 -0.00511014 -0.00513454 -0.00515896 -0.00518339 -0.00520784\n",
      "  -0.00523231 -0.0052568  -0.0052813  -0.00530582 -0.00533036 -0.00535492\n",
      "  -0.00537949 -0.00540408 -0.00542869 -0.00545332 -0.00547796 -0.00550262\n",
      "  -0.0055273  -0.00555199 -0.0055767  -0.00560143 -0.00562618 -0.00565094\n",
      "  -0.00567572 -0.00570052 -0.00572533 -0.00575016 -0.00577501 -0.00579987\n",
      "  -0.00582475 -0.00584965 -0.00587457 -0.0058995  -0.00592444 -0.00594941\n",
      "  -0.00597439 -0.00599939 -0.0060244  -0.00604943 -0.00607448 -0.00609954\n",
      "  -0.00612462 -0.00614972 -0.00617483 -0.00619996 -0.0062251  -0.00625026\n",
      "  -0.00627544 -0.00630063 -0.00632584 -0.00635107 -0.00637631 -0.00640157\n",
      "  -0.00642684 -0.00645213 -0.00647744 -0.00650276 -0.0065281  -0.00655345\n",
      "  -0.00657882 -0.00660421 -0.00662961 -0.00665502 -0.00668045 -0.0067059\n",
      "  -0.00673137 -0.00675685 -0.00678234 -0.00680785 -0.00683338 -0.00685892\n",
      "  -0.00688448 -0.00691005 -0.00693564 -0.00696124 -0.00698686 -0.0070125\n",
      "  -0.00703815 -0.00706381 -0.00708949 -0.00711519 -0.0071409  -0.00716662\n",
      "  -0.00719237 -0.00721812 -0.00724389 -0.00726968 -0.00729548 -0.0073213\n",
      "  -0.00734713 -0.00737298 -0.00739884 -0.00742472 -0.00745061 -0.00747652\n",
      "  -0.00750244 -0.00752838 -0.00755433 -0.0075803  -0.00760628 -0.00763227\n",
      "  -0.00765829 -0.00768431 -0.00771035 -0.00773641 -0.00776248 -0.00778856\n",
      "  -0.00781466 -0.00784078 -0.0078669  -0.00789305 -0.0079192  -0.00794538\n",
      "  -0.00797156 -0.00799777 -0.00802398 -0.00805021 -0.00807646 -0.00810271\n",
      "  -0.00812899 -0.00815528 -0.00818158 -0.00820789 -0.00823423 -0.00826057\n",
      "  -0.00828693 -0.0083133  -0.00833969 -0.00836609 -0.00839251 -0.00841894\n",
      "  -0.00844538 -0.00847184 -0.00849832 -0.0085248  -0.0085513  -0.00857782\n",
      "  -0.00860435 -0.00863089 -0.00865745 -0.00868402 -0.0087106  -0.0087372\n",
      "  -0.00876382 -0.00879044 -0.00881708 -0.00884374 -0.00887041 -0.00889709\n",
      "  -0.00892378 -0.00895049 -0.00897722 -0.00900395 -0.00903071 -0.00905747\n",
      "  -0.00908425 -0.00911104 -0.00913785 -0.00916467 -0.0091915  -0.00921834\n",
      "  -0.0092452  -0.00927208 -0.00929897 -0.00932587 -0.00935278 -0.00937971\n",
      "  -0.00940665 -0.0094336  -0.00946057 -0.00948755 -0.00951455 -0.00954156\n",
      "  -0.00956858 -0.00959561 -0.00962266 -0.00964973 -0.0096768  -0.00970389\n",
      "  -0.00973099 -0.00975811 -0.00978523 -0.00981238 -0.00983953 -0.0098667\n",
      "  -0.00989388 -0.00992107 -0.00994828 -0.0099755  -0.01000274 -0.01002998\n",
      "  -0.01005724 -0.01008452 -0.0101118  -0.0101391  -0.01016641 -0.01019374\n",
      "  -0.01022108 -0.01024843 -0.01027579 -0.01030317 -0.01033056 -0.01035796\n",
      "  -0.01038538 -0.01041281 -0.01044025 -0.0104677  -0.01049517 -0.01052265\n",
      "  -0.01055014 -0.01057765 -0.01060517 -0.0106327  -0.01066024 -0.0106878\n",
      "  -0.01071537 -0.01074295 -0.01077055 -0.01079815 -0.01082577 -0.01085341\n",
      "  -0.01088105 -0.01090871 -0.01093638 -0.01096406 -0.01099176 -0.01101947\n",
      "  -0.01104719 -0.01107492 -0.01110267 -0.01113043 -0.0111582  -0.01118598\n",
      "  -0.01121378 -0.01124159 -0.01126941 -0.01129724 -0.01132509 -0.01135295\n",
      "  -0.01138082 -0.0114087  -0.0114366  -0.01146451 -0.01149243 -0.01152036\n",
      "  -0.01154831 -0.01157626 -0.01160423 -0.01163221 -0.01166021 -0.01168822\n",
      "  -0.01171623 -0.01174427 -0.01177231 -0.01180036 -0.01182843 -0.01185651\n",
      "  -0.0118846  -0.01191271]\n",
      " [ 0.00000024  0.00001955  0.00004259  0.00006781  0.00009454  0.0001224\n",
      "   0.00015118  0.00018071  0.00021089  0.00024162  0.00027285  0.00030452\n",
      "   0.00033659  0.00036904  0.00040181  0.00043491  0.0004683   0.00050196\n",
      "   0.00053588  0.00057005  0.00060445  0.00063907  0.0006739   0.00070893\n",
      "   0.00074416  0.00077957  0.00081517  0.00085094  0.00088687  0.00092297\n",
      "   0.00095922  0.00099563  0.00103218  0.00106888  0.00110572  0.00114269\n",
      "   0.0011798   0.00121704  0.00125441  0.0012919   0.00132951  0.00136724\n",
      "   0.00140509  0.00144305  0.00148112  0.00151931  0.0015576   0.001596\n",
      "   0.00163451  0.00167311  0.00171182  0.00175063  0.00178954  0.00182854\n",
      "   0.00186764  0.00190683  0.00194612  0.00198549  0.00202496  0.00206452\n",
      "   0.00210416  0.00214389  0.00218371  0.00222361  0.0022636   0.00230366\n",
      "   0.00234381  0.00238405  0.00242436  0.00246475  0.00250522  0.00254576\n",
      "   0.00258639  0.00262709  0.00266786  0.00270871  0.00274964  0.00279064\n",
      "   0.00283171  0.00287285  0.00291406  0.00295535  0.0029967   0.00303813\n",
      "   0.00307962  0.00312118  0.00316281  0.00320451  0.00324628  0.00328811\n",
      "   0.00333     0.00337197  0.00341399  0.00345609  0.00349824  0.00354046\n",
      "   0.00358275  0.00362509  0.0036675   0.00370997  0.0037525   0.00379509\n",
      "   0.00383775  0.00388046  0.00392324  0.00396607  0.00400896  0.00405191\n",
      "   0.00409492  0.00413799  0.00418112  0.0042243   0.00426754  0.00431084\n",
      "   0.0043542   0.00439761  0.00444108  0.0044846   0.00452818  0.00457181\n",
      "   0.0046155   0.00465924  0.00470304  0.00474689  0.0047908   0.00483475\n",
      "   0.00487877  0.00492283  0.00496695  0.00501112  0.00505534  0.00509961\n",
      "   0.00514394  0.00518832  0.00523275  0.00527723  0.00532176  0.00536634\n",
      "   0.00541097  0.00545565  0.00550038  0.00554517  0.00559     0.00563488\n",
      "   0.00567981  0.00572479  0.00576982  0.00581489  0.00586002  0.00590519\n",
      "   0.00595041  0.00599568  0.006041    0.00608636  0.00613177  0.00617723\n",
      "   0.00622273  0.00626829  0.00631389  0.00635953  0.00640522  0.00645096\n",
      "   0.00649674  0.00654257  0.00658845  0.00663437  0.00668033  0.00672634\n",
      "   0.0067724   0.0068185   0.00686465  0.00691084  0.00695707  0.00700335\n",
      "   0.00704967  0.00709604  0.00714245  0.0071889   0.0072354   0.00728194\n",
      "   0.00732853  0.00737516  0.00742183  0.00746854  0.0075153   0.0075621\n",
      "   0.00760894  0.00765582  0.00770275  0.00774972  0.00779673  0.00784378\n",
      "   0.00789088  0.00793802  0.00798519  0.00803241  0.00807967  0.00812698\n",
      "   0.00817432  0.0082217   0.00826913  0.00831659  0.0083641   0.00841165\n",
      "   0.00845924  0.00850686  0.00855453  0.00860224  0.00864999  0.00869778\n",
      "   0.00874561  0.00879347  0.00884138  0.00888933  0.00893732  0.00898534\n",
      "   0.00903341  0.00908151  0.00912966  0.00917784  0.00922606  0.00927432\n",
      "   0.00932262  0.00937096  0.00941933  0.00946775  0.0095162   0.00956469\n",
      "   0.00961322  0.00966179  0.00971039  0.00975904  0.00980772  0.00985644\n",
      "   0.00990519  0.00995399  0.01000282  0.01005169  0.01010059  0.01014954\n",
      "   0.01019852  0.01024753  0.01029659  0.01034568  0.01039481  0.01044397\n",
      "   0.01049318  0.01054241  0.01059169  0.010641    0.01069035  0.01073973\n",
      "   0.01078915  0.01083861  0.0108881   0.01093763  0.0109872   0.0110368\n",
      "   0.01108643  0.01113611  0.01118581  0.01123556  0.01128534  0.01133515\n",
      "   0.011385    0.01143489  0.01148481  0.01153476  0.01158475  0.01163478\n",
      "   0.01168484  0.01173494  0.01178507  0.01183523  0.01188543  0.01193567\n",
      "   0.01198594  0.01203624  0.01208658  0.01213695  0.01218736  0.0122378\n",
      "   0.01228828  0.01233879  0.01238933  0.01243991  0.01249052  0.01254117\n",
      "   0.01259185  0.01264256  0.01269331  0.01274409  0.01279491  0.01284576\n",
      "   0.01289664  0.01294755  0.0129985   0.01304949  0.0131005   0.01315155\n",
      "   0.01320263  0.01325375  0.0133049   0.01335608  0.01340729  0.01345854\n",
      "   0.01350982  0.01356114  0.01361248  0.01366386  0.01371527  0.01376672\n",
      "   0.01381819  0.0138697   0.01392125  0.01397282  0.01402443  0.01407607\n",
      "   0.01412774  0.01417944  0.01423118  0.01428295  0.01433475  0.01438658\n",
      "   0.01443844  0.01449034  0.01454227  0.01459423  0.01464622  0.01469824\n",
      "   0.0147503   0.01480238  0.0148545   0.01490665  0.01495883  0.01501105\n",
      "   0.01506329  0.01511557  0.01516787  0.01522021  0.01527258  0.01532498\n",
      "   0.01537741  0.01542988  0.01548237  0.0155349   0.01558745  0.01564004\n",
      "   0.01569266  0.01574531  0.01579799  0.0158507   0.01590344  0.01595621\n",
      "   0.01600902  0.01606185  0.01611472  0.01616761  0.01622054  0.01627349\n",
      "   0.01632648  0.01637949  0.01643254  0.01648562  0.01653873  0.01659186\n",
      "   0.01664503  0.01669823  0.01675146  0.01680472  0.016858    0.01691132\n",
      "   0.01696467  0.01701805  0.01707146  0.0171249   0.01717836  0.01723186\n",
      "   0.01728539  0.01733894  0.01739253  0.01744615  0.01749979  0.01755347\n",
      "   0.01760717  0.01766091  0.01771467  0.01776847  0.01782229  0.01787614\n",
      "   0.01793002  0.01798393  0.01803787  0.01809184  0.01814584  0.01819987\n",
      "   0.01825392  0.01830801  0.01836212  0.01841627  0.01847044  0.01852464\n",
      "   0.01857887  0.01863313  0.01868742  0.01874174  0.01879608  0.01885046\n",
      "   0.01890486  0.01895929  0.01901375  0.01906824  0.01912276  0.0191773\n",
      "   0.01923188  0.01928648  0.01934111  0.01939577  0.01945046  0.01950518\n",
      "   0.01955992  0.0196147   0.0196695   0.01972433  0.01977919  0.01983407\n",
      "   0.01988899  0.01994393  0.0199989   0.0200539   0.02010893  0.02016398\n",
      "   0.02021906  0.02027417  0.02032931  0.02038448  0.02043967  0.02049489\n",
      "   0.02055014  0.02060542  0.02066073  0.02071606  0.02077142  0.02082681\n",
      "   0.02088223  0.02093767  0.02099314  0.02104864  0.02110416  0.02115972\n",
      "   0.0212153   0.02127091  0.02132654  0.02138221  0.0214379   0.02149362\n",
      "   0.02154936  0.02160513  0.02166093  0.02171676  0.02177261  0.0218285\n",
      "   0.0218844   0.02194034  0.0219963   0.02205229  0.02210831  0.02216435\n",
      "   0.02222042  0.02227652  0.02233264  0.0223888   0.02244497  0.02250118\n",
      "   0.02255741  0.02261367  0.02266996  0.02272627  0.02278261  0.02283897\n",
      "   0.02289537  0.02295178  0.02300823  0.0230647   0.0231212   0.02317773\n",
      "   0.02323428  0.02329086  0.02334746  0.02340409  0.02346075  0.02351743\n",
      "   0.02357414  0.02363088  0.02368765  0.02374443  0.02380125  0.02385809\n",
      "   0.02391496  0.02397186]]\n"
     ]
    }
   ],
   "source": [
    "#compute 1st and 2nd moment of X_1, X_2,...,X_n\n",
    "moment = np.real(np.array([[he.mymoment(i)[0] for i in range(1,he.n+1)], [he.mymoment(j)[1] for j in range(1, he.n+1)]]))\n",
    "np.set_printoptions(suppress=True)\n",
    "print(moment)"
   ]
  },
  {
   "cell_type": "code",
   "execution_count": 8,
   "metadata": {
    "ExecuteTime": {
     "end_time": "2022-12-02T01:35:22.344654Z",
     "start_time": "2022-12-02T01:35:22.330653Z"
    },
    "execution": {
     "iopub.execute_input": "2022-12-02T10:37:38.640678Z",
     "iopub.status.busy": "2022-12-02T10:37:38.640423Z",
     "iopub.status.idle": "2022-12-02T10:37:38.643427Z",
     "shell.execute_reply": "2022-12-02T10:37:38.643061Z",
     "shell.execute_reply.started": "2022-12-02T10:37:38.640659Z"
    }
   },
   "outputs": [],
   "source": [
    "moment.tofile(\"ref_moment.bin\")"
   ]
  },
  {
   "cell_type": "code",
   "execution_count": 15,
   "metadata": {
    "ExecuteTime": {
     "end_time": "2022-12-01T14:32:48.754024Z",
     "start_time": "2022-12-01T14:32:11.514451Z"
    },
    "execution": {
     "iopub.execute_input": "2022-12-20T04:08:38.273740Z",
     "iopub.status.busy": "2022-12-20T04:08:38.273487Z",
     "iopub.status.idle": "2022-12-20T04:08:38.276549Z",
     "shell.execute_reply": "2022-12-20T04:08:38.276172Z",
     "shell.execute_reply.started": "2022-12-20T04:08:38.273724Z"
    },
    "tags": []
   },
   "outputs": [],
   "source": [
    "logMoneyness = np.linspace(-0.25, 0.25, 10)\n",
    "strikes = np.array([S0*np.exp(k) for k in logMoneyness])"
   ]
  },
  {
   "cell_type": "code",
   "execution_count": 16,
   "metadata": {
    "execution": {
     "iopub.execute_input": "2022-12-20T04:08:40.176226Z",
     "iopub.status.busy": "2022-12-20T04:08:40.175955Z",
     "iopub.status.idle": "2022-12-20T04:08:40.312492Z",
     "shell.execute_reply": "2022-12-20T04:08:40.312080Z",
     "shell.execute_reply.started": "2022-12-20T04:08:40.176209Z"
    },
    "tags": []
   },
   "outputs": [],
   "source": [
    "he = Heston_Analytical(dt, heston_params, T)"
   ]
  },
  {
   "cell_type": "code",
   "execution_count": 20,
   "metadata": {
    "execution": {
     "iopub.execute_input": "2022-12-20T04:18:52.145605Z",
     "iopub.status.busy": "2022-12-20T04:18:52.145329Z",
     "iopub.status.idle": "2022-12-20T04:32:35.861172Z",
     "shell.execute_reply": "2022-12-20T04:32:35.860553Z",
     "shell.execute_reply.started": "2022-12-20T04:18:52.145585Z"
    }
   },
   "outputs": [],
   "source": [
    "ref_price = np.array([he.price_call_rough(k)[0] for k in logMoneyness])"
   ]
  },
  {
   "cell_type": "code",
   "execution_count": 21,
   "metadata": {
    "execution": {
     "iopub.execute_input": "2022-12-20T04:53:20.449528Z",
     "iopub.status.busy": "2022-12-20T04:53:20.449256Z",
     "iopub.status.idle": "2022-12-20T04:53:20.453095Z",
     "shell.execute_reply": "2022-12-20T04:53:20.452685Z",
     "shell.execute_reply.started": "2022-12-20T04:53:20.449511Z"
    }
   },
   "outputs": [
    {
     "name": "stdout",
     "output_type": "stream",
     "text": [
      "[0.22424866 0.1836631  0.14411865 0.10738331 0.07528436 0.04922805\n",
      " 0.02978511 0.01656082 0.00841414 0.00388907]\n"
     ]
    }
   ],
   "source": [
    "print(ref_price)"
   ]
  },
  {
   "cell_type": "code",
   "execution_count": 22,
   "metadata": {
    "execution": {
     "iopub.execute_input": "2022-12-20T04:53:46.798434Z",
     "iopub.status.busy": "2022-12-20T04:53:46.798179Z",
     "iopub.status.idle": "2022-12-20T04:53:46.816092Z",
     "shell.execute_reply": "2022-12-20T04:53:46.815708Z",
     "shell.execute_reply.started": "2022-12-20T04:53:46.798418Z"
    }
   },
   "outputs": [],
   "source": [
    "ref_price.tofile(\"ref_price.bin\")"
   ]
  },
  {
   "cell_type": "code",
   "execution_count": null,
   "metadata": {},
   "outputs": [],
   "source": [
    "for k in logMoneynesses:\n",
    "    c, v = he.price_call_rough(k)\n",
    "    ccs.append(c)\n",
    "    ivs.append(v)"
   ]
  },
  {
   "cell_type": "code",
   "execution_count": null,
   "metadata": {},
   "outputs": [],
   "source": [
    "plt.plot(logMoneynesses, ccs, 'b', label='alpha= %.1f' %he.alpha)\n",
    "plt.legend(loc=\"best\")\n",
    "plt.xlabel(\"log-strike\")\n",
    "plt.title(\"Call prices\")\n",
    "plt.show()\n",
    "\n",
    "plt.plot(logMoneynesses, ivs, 'b', label='alpha= %.1f' %he.alpha)\n",
    "plt.legend(loc=\"best\")\n",
    "plt.xlabel(\"log-strike\")\n",
    "plt.title(\"Implied volatility\")\n",
    "plt.show()"
   ]
  }
 ],
 "metadata": {
  "kernelspec": {
   "display_name": "Environment(myproject)",
   "language": "python",
   "name": "myproject"
  },
  "language_info": {
   "codemirror_mode": {
    "name": "ipython",
    "version": 3
   },
   "file_extension": ".py",
   "mimetype": "text/x-python",
   "name": "python",
   "nbconvert_exporter": "python",
   "pygments_lexer": "ipython3",
   "version": "3.11.0"
  }
 },
 "nbformat": 4,
 "nbformat_minor": 4
}
