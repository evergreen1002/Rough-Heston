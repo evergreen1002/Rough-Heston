{
 "cells": [
  {
   "cell_type": "markdown",
   "id": "27f35cac",
   "metadata": {},
   "source": [
    "### Rough Heston model \n",
    "The rough Heston model is given by\n",
    "   \n",
    "   $dS_t = S_t\\sqrt{V_t}dW_t $\n",
    "\n",
    "   $V_t = V_0 + \\frac{\\gamma}{\\Gamma(H + \\frac{1}{2})}\\int_{0}^{t}(t-s)^{H - \\frac{1}{2}}(\\theta - V_s)ds + \\frac{\\gamma \\nu}{\\Gamma(H + \\frac{1}{2})}\\int_{0}^{t}(t-s)^{H-\\frac{1}{2}}\\sqrt{V_s}dB_s$\n",
    " \n",
    "   where $\\gamma, \\theta, \\nu, \\rho$ is the set of parameters, $W$ and $B$ are correlated with $\\rho$, and $V_0$ is known. \n",
    "    \n",
    "   Decompose the time interval $I = $\\[$0,T$\\] into $M$ uniform subintervals $I_n \\colon= [t_n, t_{n+1}]$ for $n = 0, 1,\\cdots,M-1$ of size $\\tau = \\frac{T}{M}$, $t_n = n \\times \\tau$, for $n=0,1,\\cdots,M$.\n",
    "   \n",
    "   Note that $t^{H-\\frac{1}{2}}\\approx \\sum_{j=1}^{N}\\omega_je^{-\\lambda_jt}$, where $\\{\\omega_j\\}_{j=1}^{N}$ and $\\{\\lambda_j\\}_{j=1}^{N}$ are unique for all $t \\in (0, T]$\n",
    "   \n",
    "   For $V_{t_i}$, let $F_{a,i} \\colon= \\int_{0}^{t_i}(t_i-s)^{H-\\frac{1}{2}}(\\theta - V_s)ds$, $F_{b,i} \\colon= \\int_{0}^{t_i}(t_i-s)^{H - \\frac{1}{2}}\\sqrt{V_s}dB_s$.    "
   ]
  },
  {
   "cell_type": "code",
   "execution_count": 1,
   "id": "9ec06fbc",
   "metadata": {
    "ExecuteTime": {
     "end_time": "2022-12-02T01:32:08.400174Z",
     "start_time": "2022-12-02T01:32:07.928519Z"
    }
   },
   "outputs": [],
   "source": [
    "import numpy as np\n",
    "from scipy.stats import norm\n",
    "import matplotlib.pyplot as plt \n",
    "import time \n",
    "from scipy.optimize import bisect\n",
    "from scipy.special import gamma \n",
    "from scipy import integrate"
   ]
  },
  {
   "cell_type": "code",
   "execution_count": 2,
   "id": "bbdd22cc",
   "metadata": {
    "ExecuteTime": {
     "end_time": "2022-12-02T01:32:09.171679Z",
     "start_time": "2022-12-02T01:32:09.160608Z"
    }
   },
   "outputs": [],
   "source": [
    "#sum of exponentials to approximate t^{-a-1}\n",
    "#in our case, let -a-1 = H - 0.5, then a = -H - 0.5\n",
    "def para(a, delta_t, n):\n",
    "    delta = 1   \n",
    "    tau = np.pi/np.sqrt(delta*n) \n",
    "\n",
    "    i = np.arange(-n,n+1,1) #i= -n,...,0,...,n, N = 2×n + 1 \n",
    "    Lambda = np.log(1+ np.exp(tau*i))/delta_t \n",
    "    Omega = tau*(np.log(1+np.exp(tau*i)))**a/(1+np.exp(-tau*i))/(delta_t**(1 + a)*gamma(1 + a)) \n",
    "    \n",
    "    return Omega, Lambda "
   ]
  },
  {
   "cell_type": "code",
   "execution_count": 3,
   "id": "09df5745",
   "metadata": {
    "ExecuteTime": {
     "end_time": "2022-12-02T01:32:09.933428Z",
     "start_time": "2022-12-02T01:32:09.926428Z"
    }
   },
   "outputs": [],
   "source": [
    "#BS formula \n",
    "def BS(flag, S0, K, T, r, vol):\n",
    "    #for call option, flag = True; for put option, flag = False \n",
    "    #D: discount factor \n",
    "    #r: risk-free interest rate\n",
    "    #F: forward price := S0/D\n",
    "\n",
    "    vsqrt = vol*np.sqrt(T)\n",
    "    D = np.exp(-r*T)\n",
    "    F = S0/D\n",
    "    d1 = np.log(F/K)/vsqrt + vsqrt/2\n",
    "    d2 = d1 - vsqrt\n",
    "    \n",
    "    if Flag:\n",
    "        return D*(F*norm.cdf(d1) - K*norm.cdf(d2))\n",
    "    else:\n",
    "        return D*(K*norm.cdf(-d2) - F*norm.cdf(-d1))\n",
    "    \n",
    "def impliedvol(C, S0, K, T, r): #by bisection algorithm\n",
    "    #C: call option price \n",
    "    def smileMin(vol, *args):\n",
    "        C, S0, K, T, r = args \n",
    "        return C - BS(True, S0, K, T, r, vol)\n",
    "    vMin = 0.000001\n",
    "    vMax = 10\n",
    "    return bisect(smileMin, vMin, vMax, args = (C, S0, K, T, r), \n",
    "                 rtol = 1e-15, full_output=False, dsip=True)\n",
    "\n"
   ]
  },
  {
   "cell_type": "code",
   "execution_count": 4,
   "id": "835f3015",
   "metadata": {
    "ExecuteTime": {
     "end_time": "2022-12-02T01:32:10.614803Z",
     "start_time": "2022-12-02T01:32:10.584581Z"
    }
   },
   "outputs": [],
   "source": [
    "class rough_Heston_Analytical: \n",
    "    def __init__(self, M, T, params, Omega, Lambda, N, P):\n",
    "        #Time discretization\n",
    "        self.M = M #number of time intervals \n",
    "        self.T = T\n",
    "        self.tau = self.T/self.M\n",
    "        self.grid = np.linspace(0, T, self.M+1)\n",
    "        self.Omega = Omega #(N,) 1-d array: 𝜔_1, 𝜔_2,...,𝜔_N\n",
    "        self.Lambda = Lambda # (N,) 1-d array: 𝜆_1, 𝜆_2,...,𝜆_N       \n",
    "        self.N = N\n",
    "        self.P = P #number of paths to generate       \n",
    "        \n",
    "        #Heston model parameters \n",
    "        self.S0 = params['S0']\n",
    "        self.V0 = params['V0']\n",
    "        self.Gamma = params['Gamma']\n",
    "        self.nu = params['nu']\n",
    "        self.theta = params['theta']\n",
    "        self.rho = params['rho'] \n",
    "        self.H = params['H']\n",
    "        \n",
    "        #Precomputation\n",
    "        self.Omega_t = self.Omega/self.tau\n",
    "        self.E = np.exp(-1*self.Lambda*self.tau)  \n",
    "        self.coef_1 = self.Gamma / gamma(self.H + 0.5) \n",
    "        self.coef_2 = self.coef_1*self.nu       \n",
    "        \n",
    "        \n",
    "    #Brownian motions W and B\n",
    "    def BW(self): \n",
    "        np.random.seed(0)\n",
    "        W = np.sqrt(self.tau)*np.random.normal(loc=0, scale=1, size = [P,M]) \n",
    "        Z = np.sqrt(self.tau)*np.random.normal(loc=0, scale=1, size = [P,M]) \n",
    "        B = self.rho*W + np.sqrt(1-self.rho**2)*Z #W and B correlated with rho\n",
    "        return W, B \n",
    "        \n",
    "    #compute C_1 and C_2 \n",
    "    def C(self):\n",
    "        C_1 = np.zeros((self.M, self.N))\n",
    "        C_2 = np.zeros((self.M, self.N))\n",
    "            \n",
    "        #1st row of C_1 and C_2\n",
    "        t1 = self.grid[1]\n",
    "        for j in range(self.N):\n",
    "            C_1[0,j] = integrate.quad(lambda x: np.exp(-1*self.Lambda[j]*(t1-x))*(t1-x), 0, t1)[0]\n",
    "            C_2[0,j] = integrate.quad(lambda x: np.exp(-1*self.Lambda[j]*(t1-x))*x, 0, t1)[0]\n",
    "        \n",
    "        #2nd ∼ Mth rows of C_1 and C_2\n",
    "        for i in range(1, self.M):\n",
    "            t_a = self.grid[i]\n",
    "            t_b = self.grid[i+1]\n",
    "            for k in range(self.N):\n",
    "                C_1[i,k] = integrate.quad(lambda x: np.exp(-1*self.Lambda[k]*(t_a-x))*(t_b-x), t_a, t_b)[0]\n",
    "                C_2[i,k] = integrate.quad(lambda x: np.exp(-1*self.Lambda[k]*(t_a-x))*(x-t_a), t_a, t_b)[0]\n",
    "        \n",
    "        return C_1, C_2\n",
    "        \n",
    "    #compute Pi_1 and Pi_2\n",
    "    def Pi(self):         \n",
    "        Pi_1 = np.zeros((self.P, self.M, self.N)) #a 3-d array, or total P numbers of M×N 2-d arrays\n",
    "        Pi_2 = np.zeros((self.P, self.M, self.N))\n",
    "        W,B = self.BW()\n",
    "        \n",
    "        #1st row \n",
    "        t1 = self.grid[1]\n",
    "        for i in range(self.P):\n",
    "            for k in range(self.N):\n",
    "                f_1 = integrate.quad(lambda x: np.exp(-2*self.Lambda[k]*(t1-x))*(t1-x)**2, 0, t1)[0]\n",
    "                f_2 = integrate.quad(lambda x: np.exp(-2*self.Lambda[k]*(t1-x))*x**2, 0, t1)[0]\n",
    "                Pi_1[i,0,k] = np.sqrt(f_1)*B[i, 0] \n",
    "                Pi_2[i,0,k] = np.sqrt(f_2)*B[i, 0]\n",
    "            \n",
    "        #2nd ∼ Mth rows \n",
    "        for i in range(self.P):\n",
    "            for j in range(1,self.M):\n",
    "                t_a = self.grid[j]\n",
    "                t_b = self.grid[j+1]\n",
    "                for k in range(self.N):\n",
    "                    f_1 = integrate.quad(lambda x: np.exp(-2*self.Lambda[k]*(t_a-x))*(t_b-x)**2, t_a, t_b)[0]\n",
    "                    f_2 = integrate.quad(lambda x: np.exp(-2*self.Lambda[k]*(t_a-x))*(x-t_a)**2, t_a, t_b)[0]\n",
    "                    Pi_1[i,j,k] = np.sqrt(f_1)*B[i,j]\n",
    "                    Pi_2[i,j,k] = np.sqrt(f_2)*B[i,j]                   \n",
    "     \n",
    "        return Pi_1, Pi_2\n",
    "        \n",
    "    def V_(self):\n",
    "        V = np.zeros((self.P, self.M))          \n",
    "        G = np.zeros((self.P, self.M, self.N))\n",
    "        Phi = np.zeros((self.P, self.M, self.N))\n",
    "        \n",
    "        #multiply Omega_t to C and Pi by row  \n",
    "        C_1, C_2 = self.C()\n",
    "        Pi_1, Pi_2 = self.Pi()\n",
    "        C_1_t = self.Omega_t * C_1\n",
    "        C_2_t = self.Omega_t * C_2  \n",
    "        Pi_1_t = self.Omega_t * Pi_1 \n",
    "        Pi_2_t = self.Omega_t * Pi_2\n",
    "        \n",
    "        #Compute 1st col of V\n",
    "        m_1_1 = self.theta - self.V0\n",
    "        C_s_1 = m_1_1*C_1_t[0,:]\n",
    "        C_a_1 = m_1_1*C_2_t[0,:]\n",
    "        \n",
    "        m_2_1 = np.sqrt(self.V0)\n",
    "        Pi_s_1 = m_2_1*Pi_1_t[:,0,:]\n",
    "        Pi_a_1 = m_2_1*Pi_2_t[:,0,:]\n",
    "        \n",
    "        G[:,0,:] = C_s_1\n",
    "        Phi[:,0,:] = Pi_s_1\n",
    "        \n",
    "        F_a_1 = np.sum(G[:,0,:] + C_a_1, axis = -1)\n",
    "        F_b_1 = np.sum(Phi[:,0,:] + Pi_a_1, axis = -1)\n",
    "        V[:,0] = self.V0 + self.coef_1*F_a_1 + self.coef_2*F_b_1\n",
    "        \n",
    "        #Compute 2nd col of V\n",
    "        m_1_2 = np.reshape(self.theta - V[:,0], (self.P, -1))  #P×1 array\n",
    "        C_s_2 = m_1_2 * np.reshape(C_1_t[1,:], (1,-1)) #reshape into a 1×N array\n",
    "        C_a_2 = m_1_2 * np.reshape(C_2_t[1,:], (1,-1))\n",
    "        C_b_2 = m_1_2 * np.reshape(C_2_t[0,:], (1,-1))\n",
    "        \n",
    "        m_2_2 = np.reshape(np.sqrt(V[:,0]), (self.P, -1)) \n",
    "        Pi_s_2 = m_2_2 * Pi_1_t[:,1,:]\n",
    "        Pi_a_2 = m_2_2 * Pi_2_t[:,1,:]\n",
    "        Pi_b_2 = m_2_2 * Pi_2_t[:,0,:]\n",
    "        \n",
    "        G[:,1,:] = self.E*(G[:,0,:] + C_b_2 + C_s_2)\n",
    "        Phi[:,1,:] = self.E*(Phi[:,0,:] + Pi_b_2 + Pi_s_2)\n",
    "        \n",
    "        F_a_2 = np.sum(G[:,1,:] + self.E*C_a_2, axis = -1)\n",
    "        F_b_2 = np.sum(Phi[:,1,:] + self.E*Pi_a_2, axis = -1)\n",
    "        V[:,1] = self.V0 + self.coef_1*F_a_2 + self.coef_2*F_b_2\n",
    "        \n",
    "        #compute 3rd ∼ Mth cols of V\n",
    "        for j in range(2, self.M):\n",
    "            m_1_j = np.reshape(self.theta - V[:,j-1], (self.P, -1))\n",
    "            C_s_j = m_1_j * np.reshape(C_1_t[j,:], (1,-1))\n",
    "            C_a_j = m_1_j * np.reshape(C_2_t[j,:], (1,-1))\n",
    "            C_b_j = m_1_j * np.reshape(C_2_t[j-1,:], (1,-1))\n",
    "            \n",
    "            m_2_j = np.reshape(np.sqrt(V[:,j-1]), (self.P, -1))\n",
    "            Pi_s_j = m_2_j * Pi_1_t[:,j,:]\n",
    "            Pi_a_j = m_2_j * Pi_2_t[:,j,:]\n",
    "            Pi_b_j = m_2_j * Pi_2_t[:,j-1,:]\n",
    "            \n",
    "            G[:,j,:] = self.E*(G[:,j-1,:] + self.E*C_b_j + C_s_j)\n",
    "            Phi[:,j,:] = self.E*(Phi[:,j-1,:] + self.E*Pi_b_j + Pi_s_j)\n",
    "            \n",
    "            F_a_j = np.sum(G[:,j,:] + self.E*C_a_j, axis = -1)\n",
    "            F_b_j = np.sum(Phi[:,j,:] + self.E*Pi_a_j, axis = -1)\n",
    "            V[:,j] = self.V0 + self.coef_1*F_a_j + self.coef_2*F_b_j\n",
    "            \n",
    "        return V\n",
    "            \n",
    "    def S_(self): #by Forward Euler method \n",
    "        S = np.zeros((self.P, self.M)) \n",
    "        W, B = self.BW()\n",
    "        V = self.V_()\n",
    "        S[:,0] = self.S0 + self.S0*np.sqrt(self.V0)*W[:,0]\n",
    "        \n",
    "        for j in range(1, self.M):\n",
    "            S[:,j] = S[:,j-1] + S[:,j-1]*np.sqrt(V[:,j-1])*W[:,j]\n",
    "        \n",
    "        return S\n",
    "    \n",
    "    #not sure about this part\n",
    "    def call_price_vol(self, k): \n",
    "        #k: log-moneyness \n",
    "        K = self.S0*np.exp(k) #K: strike \n",
    "        \n",
    "        V = self.V_()\n",
    "        S = self.S_()\n",
    "        \n",
    "        #pricing under BS formula \n",
    "        C = np.mean(BS(True, S[:,-1], self.T, 0, np.sqrt(V[:,-1])))       \n",
    "        \n",
    "        #implied_vol\n",
    "        iv = impliedvol(C, self.S0, K, self.T, 0)\n",
    "        \n",
    "        return C, iv        \n",
    "  "
   ]
  },
  {
   "cell_type": "code",
   "execution_count": 5,
   "id": "7a5e7ed9",
   "metadata": {
    "ExecuteTime": {
     "end_time": "2022-12-02T01:32:11.151081Z",
     "start_time": "2022-12-02T01:32:11.140053Z"
    }
   },
   "outputs": [],
   "source": [
    "a = -0.62 #H = 0.12\n",
    "delta_t = 0.01\n",
    "n = 20\n",
    "Omega, Lambda = para(a, delta_t, n)"
   ]
  },
  {
   "cell_type": "code",
   "execution_count": 6,
   "id": "e3080f1f",
   "metadata": {
    "ExecuteTime": {
     "end_time": "2022-12-02T01:32:11.702220Z",
     "start_time": "2022-12-02T01:32:11.685185Z"
    }
   },
   "outputs": [],
   "source": [
    "#input parameters \n",
    "M = 50\n",
    "T = 0.5 #tau = 0.01 \n",
    "S0 = 1\n",
    "V0 = 0.0392\n",
    "Gamma = 0.1\n",
    "nu = 0.331\n",
    "theta = 0.3156\n",
    "rho = -0.01\n",
    "H = 0.12 \n",
    "Heston_params = {'S0': S0, 'V0': V0, 'Gamma': Gamma, 'nu': nu, 'theta': theta, 'rho': rho, 'H': H}\n",
    "N = 41 #take n = 20\n",
    "P = 100"
   ]
  },
  {
   "cell_type": "code",
   "execution_count": 7,
   "id": "feef4153",
   "metadata": {
    "ExecuteTime": {
     "end_time": "2022-12-02T01:32:12.268627Z",
     "start_time": "2022-12-02T01:32:12.260542Z"
    }
   },
   "outputs": [
    {
     "name": "stdout",
     "output_type": "stream",
     "text": [
      "[0.02712917 0.02712892 0.02712892 0.02712891 0.0271289  0.0271289\n",
      " 0.02712892 0.02712894 0.02712894 0.02712889 0.02712882 0.02712876\n",
      " 0.02712874 0.02712878 0.02712887 0.02712898 0.02712908 0.02712914\n",
      " 0.02712914 0.02712908 0.02712896 0.02712882 0.02712866 0.02712852\n",
      " 0.02712841 0.02712835 0.02712834 0.02712839 0.02712848 0.0271286\n",
      " 0.02712874 0.0271289  0.02712905 0.02712919 0.0271293  0.02712938\n",
      " 0.02712942 0.02712943 0.0271294  0.02712934 0.02712925 0.02712914\n",
      " 0.02712901 0.02712887 0.02712872 0.02712857 0.02712843 0.02712831\n",
      " 0.02712819 0.0271281 ]\n",
      "[0.00471451 0.00613513 0.00715712 0.0079839  0.00869042 0.00931386\n",
      " 0.00987574 0.0103898  0.01086538 0.0113092  0.01172628 0.01212045\n",
      " 0.01249476 0.01285165 0.01319308 0.0135207  0.01383585 0.01413968\n",
      " 0.01443319 0.01471724 0.01499259 0.01525989 0.01551976 0.01577271\n",
      " 0.01601923 0.01625973 0.01649459 0.01672415 0.01694871 0.01716854\n",
      " 0.0173839  0.017595   0.01780205 0.01800523 0.01820474 0.01840072\n",
      " 0.01859333 0.01878272 0.01896902 0.01915235 0.01933284 0.01951061\n",
      " 0.01968575 0.01985837 0.02002858 0.02019645 0.02036207 0.02052553\n",
      " 0.0206869  0.02084625]\n"
     ]
    }
   ],
   "source": [
    "#approximation error for sum of exponentials \n",
    "mygrid = np.linspace(delta_t, T, M) #(M,) 1-d array\n",
    "true_val = mygrid ** (-a-1)\n",
    "\n",
    "appro = np.sum(Omega * np.exp(np.reshape(mygrid, (M,-1)) * np.reshape(-Lambda, (1,-1))),axis = -1)\n",
    "abs_err = np.abs(true_val - appro)\n",
    "err_rate = abs_err/true_val\n",
    "print(abs_err)\n",
    "print(err_rate)"
   ]
  },
  {
   "cell_type": "code",
   "execution_count": 8,
   "id": "090c7ab2",
   "metadata": {
    "ExecuteTime": {
     "end_time": "2022-12-02T01:32:13.131178Z",
     "start_time": "2022-12-02T01:32:13.128140Z"
    }
   },
   "outputs": [],
   "source": [
    "heston = rough_Heston_Analytical(M, T, Heston_params, Omega, Lambda, N, P)"
   ]
  },
  {
   "cell_type": "code",
   "execution_count": 9,
   "id": "91069019",
   "metadata": {
    "ExecuteTime": {
     "end_time": "2022-12-02T01:32:47.102347Z",
     "start_time": "2022-12-02T01:32:13.692841Z"
    }
   },
   "outputs": [
    {
     "data": {
      "text/plain": [
       "array([[0.04096824, 0.04146425, 0.04160766, ..., 0.05703401, 0.0569697 ,\n",
       "        0.05790609],\n",
       "       [0.04126543, 0.04143283, 0.04299487, ..., 0.05684916, 0.05795545,\n",
       "        0.05759146],\n",
       "       [0.04093219, 0.04155674, 0.0422    , ..., 0.05827084, 0.05792117,\n",
       "        0.05798161],\n",
       "       ...,\n",
       "       [0.04193422, 0.04214097, 0.04380035, ..., 0.05752015, 0.05923257,\n",
       "        0.05937899],\n",
       "       [0.04036012, 0.04293894, 0.04215352, ..., 0.0594199 , 0.05843746,\n",
       "        0.05926472],\n",
       "       [0.04051333, 0.04221106, 0.04279552, ..., 0.05745197, 0.05752821,\n",
       "        0.05850871]])"
      ]
     },
     "execution_count": 9,
     "metadata": {},
     "output_type": "execute_result"
    }
   ],
   "source": [
    "heston.V_()"
   ]
  },
  {
   "cell_type": "code",
   "execution_count": 10,
   "id": "542d149a",
   "metadata": {
    "ExecuteTime": {
     "end_time": "2022-12-02T01:33:24.145077Z",
     "start_time": "2022-12-02T01:32:51.181314Z"
    }
   },
   "outputs": [],
   "source": [
    "my_S = heston.S_()"
   ]
  },
  {
   "cell_type": "code",
   "execution_count": 11,
   "id": "d62d6575",
   "metadata": {
    "ExecuteTime": {
     "end_time": "2022-12-02T01:33:26.302491Z",
     "start_time": "2022-12-02T01:33:26.288491Z"
    }
   },
   "outputs": [
    {
     "name": "stdout",
     "output_type": "stream",
     "text": [
      "[[-0.0049385  -0.00572648 -0.00429511 -0.00349303 -0.0059241  -0.00590451\n",
      "  -0.00798626 -0.01221745 -0.01096715 -0.00914401 -0.0113839  -0.00824937\n",
      "  -0.01023585 -0.01477311 -0.01931507 -0.02244709 -0.02094338 -0.02326535\n",
      "  -0.02456272 -0.02253317 -0.0243844  -0.0266256  -0.02784075 -0.03027701\n",
      "  -0.03154414 -0.03035032 -0.02867643 -0.02538574 -0.02347708 -0.02050233\n",
      "  -0.02241168 -0.01981292 -0.02423924 -0.02625178 -0.02912442 -0.03461453\n",
      "  -0.0370964  -0.03893647 -0.0383224  -0.03871685 -0.03880258 -0.03705834\n",
      "  -0.03311494 -0.03156149 -0.02941888 -0.02658688 -0.02415485 -0.02367545\n",
      "  -0.02665691 -0.02732434]\n",
      " [ 0.00043049  0.00099776  0.00152763  0.00196201  0.00260585  0.00287719\n",
      "   0.00338746  0.00358667  0.00402919  0.00428694  0.00459211  0.00540348\n",
      "   0.006063    0.00622689  0.00700093  0.00792865  0.00900425  0.00993746\n",
      "   0.01073729  0.01054571  0.01061634  0.01165857  0.01159387  0.01261162\n",
      "   0.01331742  0.01376965  0.01373885  0.01404421  0.0147081   0.01426201\n",
      "   0.0147746   0.01523481  0.01542433  0.01621009  0.01655125  0.01730546\n",
      "   0.01827732  0.01894219  0.0204823   0.02001706  0.01934961  0.01891223\n",
      "   0.01850622  0.0199443   0.02097449  0.02087726  0.02099511  0.02155355\n",
      "   0.0212307   0.02103007]]\n"
     ]
    }
   ],
   "source": [
    "my_X = np.log(my_S)\n",
    "\n",
    "#compute the 1st and 2nd moment of r.v.s X_1, X_2,...,X_M\n",
    "my_moment = np.array([[np.mean(my_X[:,i]) for i in range(M)], [np.mean(my_X[:,j]**2) for j in range(M)]])\n",
    "print(my_moment)"
   ]
  },
  {
   "cell_type": "code",
   "execution_count": 12,
   "id": "02c19001",
   "metadata": {
    "ExecuteTime": {
     "end_time": "2022-12-02T01:33:36.876798Z",
     "start_time": "2022-12-02T01:33:36.859789Z"
    }
   },
   "outputs": [
    {
     "name": "stdout",
     "output_type": "stream",
     "text": [
      "[[-0.00000505 -0.00011102 -0.00023896 -0.00038062 -0.00053231 -0.00069197\n",
      "  -0.00085827 -0.0010303  -0.00120741 -0.00138908 -0.00157492 -0.0017646\n",
      "  -0.00195786 -0.00215447 -0.00235425 -0.00255702 -0.00276265 -0.00297101\n",
      "  -0.00318198 -0.00339547 -0.00361138 -0.00382963 -0.00405015 -0.00427286\n",
      "  -0.00449771 -0.00472463 -0.00495358 -0.0051845  -0.00541734 -0.00565206\n",
      "  -0.00588863 -0.00612699 -0.00636712 -0.00660898 -0.00685254 -0.00709776\n",
      "  -0.00734463 -0.0075931  -0.00784316 -0.00809478 -0.00834794 -0.0086026\n",
      "  -0.00885876 -0.00911638 -0.00937546 -0.00963596 -0.00989787 -0.01016117\n",
      "  -0.01042585 -0.01069189]\n",
      " [ 0.0000101   0.00022206  0.00047798  0.0007614   0.00106494  0.00138446\n",
      "   0.00171734  0.00206176  0.0024164   0.00278024  0.0031525   0.00353253\n",
      "   0.00391981  0.00431389  0.00471439  0.00512099  0.00553339  0.00595135\n",
      "   0.00637466  0.00680309  0.00723649  0.00767468  0.00811753  0.00856488\n",
      "   0.00901663  0.00947265  0.00993284  0.0103971   0.01086534  0.01133748\n",
      "   0.01181343  0.01229312  0.01277649  0.01326345  0.01375395  0.01424794\n",
      "   0.01474535  0.01524613  0.01575023  0.0162576   0.0167682   0.01728198\n",
      "   0.0177989   0.01831891  0.01884199  0.01936809  0.01989718  0.02042922\n",
      "   0.02096419  0.02150204]]\n"
     ]
    }
   ],
   "source": [
    "#load the ref_moment \n",
    "ref_moment = np.reshape(np.fromfile(\"ref_moment.bin\", dtype = np.float64),(2,50))\n",
    "np.set_printoptions(suppress=True)\n",
    "print(ref_moment)"
   ]
  },
  {
   "cell_type": "code",
   "execution_count": 13,
   "id": "cacc3dcc",
   "metadata": {
    "ExecuteTime": {
     "end_time": "2022-12-02T01:33:38.780470Z",
     "start_time": "2022-12-02T01:33:38.552952Z"
    }
   },
   "outputs": [
    {
     "data": {
      "image/png": "[encoded data removed]",
      "text/plain": [
       "<Figure size 720x360 with 2 Axes>"
      ]
     },
     "metadata": {
      "needs_background": "light"
     },
     "output_type": "display_data"
    }
   ],
   "source": [
    "x = heston.grid[1:]\n",
    "my_M_1, my_M_2 = my_moment[0,:], my_moment[1,:]\n",
    "ref_M_1, ref_M_2 = ref_moment[0,:], ref_moment[1,:]\n",
    "\n",
    "# 1st order moment plot \n",
    "plt.figure(figsize=(10, 5))\n",
    "plt.subplot(1,2,1)\n",
    "l_1,= plt.plot(x, my_M_1)\n",
    "l_2,= plt.plot(x, ref_M_1)\n",
    "plt.xlabel(\"t\")\n",
    "plt.legend(handles = [l_1,l_2], labels=[\"SOE\",\"ref_sol\"], loc = 'best')\n",
    "plt.title(\"1st order moment\")\n",
    "\n",
    "#2nd order moment plot \n",
    "plt.subplot(1,2,2)\n",
    "r_1,= plt.plot(x, my_M_2)\n",
    "r_2,= plt.plot(x, ref_M_2)\n",
    "plt.xlabel(\"t\")\n",
    "plt.legend(handles = [r_1,r_2], labels=[\"SOE\",\"ref_sol\"], loc = 'best')\n",
    "plt.title(\"2nd order moment\")\n",
    "plt.show()"
   ]
  },
  {
   "cell_type": "code",
   "execution_count": null,
   "id": "a14ff695",
   "metadata": {},
   "outputs": [],
   "source": []
  }
 ],
 "metadata": {
  "kernelspec": {
   "display_name": "Python 3",
   "language": "python",
   "name": "python3"
  },
  "language_info": {
   "codemirror_mode": {
    "name": "ipython",
    "version": 3
   },
   "file_extension": ".py",
   "mimetype": "text/x-python",
   "name": "python",
   "nbconvert_exporter": "python",
   "pygments_lexer": "ipython3",
   "version": "3.8.8"
  }
 },
 "nbformat": 4,
 "nbformat_minor": 5
}
