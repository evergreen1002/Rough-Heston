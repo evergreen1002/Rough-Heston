{
 "cells": [
  {
   "cell_type": "markdown",
   "id": "27f35cac",
   "metadata": {},
   "source": [
    "### Rough Heston model \n",
    "The rough Heston model is given by\n",
    "   \n",
    "   $dS_t = S_t\\sqrt{V_t}dW_t $\n",
    "\n",
    "   $V_t = V_0 + \\frac{\\gamma}{\\Gamma(H + \\frac{1}{2})}\\int_{0}^{t}(t-s)^{H - \\frac{1}{2}}(\\theta - V_s)ds + \\frac{\\gamma \\nu}{\\Gamma(H + \\frac{1}{2})}\\int_{0}^{t}(t-s)^{H-\\frac{1}{2}}\\sqrt{V_s}dB_s$\n",
    " \n",
    "   where $\\gamma, \\theta, \\nu, \\rho$ is the set of parameters, $W$ and $B$ are correlated with $\\rho$, and $V_0$ is known. \n",
    "    \n",
    "   Decompose the time interval $I = $\\[$0,T$\\] into $M$ uniform subintervals $I_n \\colon= [t_n, t_{n+1}]$ for $n = 0, 1,\\cdots,M-1$ of size $\\tau = \\frac{T}{M}$, $t_n = n \\times \\tau$, for $n=0,1,\\cdots,M$.\n",
    "   \n",
    "   Note that $t^{H-\\frac{1}{2}}\\approx \\sum_{j=1}^{N}\\omega_je^{-\\lambda_jt}$, where $\\{\\omega_j\\}_{j=1}^{N}$ and $\\{\\lambda_j\\}_{j=1}^{N}$ are unique for all $t \\in (0, T]$\n",
    "   \n",
    "   For $V_{t_i}$, let $F_{a,i} \\colon= \\int_{0}^{t_i}(t_i-s)^{H-\\frac{1}{2}}(\\theta - V_s)ds$, $F_{b,i} \\colon= \\int_{0}^{t_i}(t_i-s)^{H - \\frac{1}{2}}\\sqrt{V_s}dB_s$.    "
   ]
  },
  {
   "cell_type": "code",
   "execution_count": 1,
   "id": "9ec06fbc",
   "metadata": {
    "ExecuteTime": {
     "end_time": "2022-12-02T01:32:08.400174Z",
     "start_time": "2022-12-02T01:32:07.928519Z"
    },
    "execution": {
     "iopub.execute_input": "2022-12-20T04:11:49.204015Z",
     "iopub.status.busy": "2022-12-20T04:11:49.203723Z",
     "iopub.status.idle": "2022-12-20T04:11:49.909327Z",
     "shell.execute_reply": "2022-12-20T04:11:49.908694Z",
     "shell.execute_reply.started": "2022-12-20T04:11:49.203964Z"
    },
    "tags": []
   },
   "outputs": [],
   "source": [
    "import numpy as np\n",
    "from scipy.stats import norm\n",
    "import matplotlib.pyplot as plt \n",
    "import time \n",
    "from scipy.optimize import bisect\n",
    "from scipy.special import gamma \n",
    "from scipy import integrate"
   ]
  },
  {
   "cell_type": "code",
   "execution_count": 2,
   "id": "bbdd22cc",
   "metadata": {
    "ExecuteTime": {
     "end_time": "2022-12-02T01:32:09.171679Z",
     "start_time": "2022-12-02T01:32:09.160608Z"
    },
    "execution": {
     "iopub.execute_input": "2022-12-20T04:11:50.548183Z",
     "iopub.status.busy": "2022-12-20T04:11:50.547753Z",
     "iopub.status.idle": "2022-12-20T04:11:50.551858Z",
     "shell.execute_reply": "2022-12-20T04:11:50.551427Z",
     "shell.execute_reply.started": "2022-12-20T04:11:50.548162Z"
    },
    "tags": []
   },
   "outputs": [],
   "source": [
    "#sum of exponentials to approximate t^{-a-1}\n",
    "#in our case, let -a-1 = H - 0.5, then a = -H - 0.5\n",
    "def para(a, delta_t, n):\n",
    "    delta = 1   \n",
    "    tau = np.pi/np.sqrt(delta*n) \n",
    "\n",
    "    i = np.arange(-n,n+1,1) #i= -n,...,0,...,n, N = 2×n + 1 \n",
    "    Lambda = np.log(1+ np.exp(tau*i))/delta_t \n",
    "    Omega = tau*(np.log(1+np.exp(tau*i)))**a/(1+np.exp(-tau*i))/(delta_t**(1 + a)*gamma(1 + a)) \n",
    "    \n",
    "    return Omega, Lambda "
   ]
  },
  {
   "cell_type": "code",
   "execution_count": 3,
   "id": "09df5745",
   "metadata": {
    "ExecuteTime": {
     "end_time": "2022-12-02T01:32:09.933428Z",
     "start_time": "2022-12-02T01:32:09.926428Z"
    },
    "execution": {
     "iopub.execute_input": "2022-12-20T04:11:51.412454Z",
     "iopub.status.busy": "2022-12-20T04:11:51.412198Z",
     "iopub.status.idle": "2022-12-20T04:11:51.416883Z",
     "shell.execute_reply": "2022-12-20T04:11:51.416471Z",
     "shell.execute_reply.started": "2022-12-20T04:11:51.412437Z"
    },
    "tags": []
   },
   "outputs": [],
   "source": [
    "#BS formula \n",
    "def BS(flag, S0, K, T, r, vol):\n",
    "    #for call option, flag = True; for put option, flag = False \n",
    "    #D: discount factor \n",
    "    #r: risk-free interest rate\n",
    "    #F: forward price := S0/D\n",
    "\n",
    "    vsqrt = vol*np.sqrt(T)\n",
    "    D = np.exp(-r*T)\n",
    "    F = S0/D\n",
    "    d1 = np.log(F/K)/vsqrt + vsqrt/2\n",
    "    d2 = d1 - vsqrt\n",
    "    \n",
    "    if Flag:\n",
    "        return D*(F*norm.cdf(d1) - K*norm.cdf(d2))\n",
    "    else:\n",
    "        return D*(K*norm.cdf(-d2) - F*norm.cdf(-d1))\n",
    "    \n",
    "def impliedvol(C, S0, K, T, r): #by bisection algorithm\n",
    "    #C: call option price \n",
    "    def smileMin(vol, *args):\n",
    "        C, S0, K, T, r = args \n",
    "        return C - BS(True, S0, K, T, r, vol)\n",
    "    vMin = 0.000001\n",
    "    vMax = 10\n",
    "    return bisect(smileMin, vMin, vMax, args = (C, S0, K, T, r), \n",
    "                 rtol = 1e-15, full_output=False, dsip=True)\n",
    "\n"
   ]
  },
  {
   "cell_type": "code",
   "execution_count": 4,
   "id": "835f3015",
   "metadata": {
    "ExecuteTime": {
     "end_time": "2022-12-02T01:32:10.614803Z",
     "start_time": "2022-12-02T01:32:10.584581Z"
    },
    "execution": {
     "iopub.execute_input": "2022-12-20T04:11:52.275797Z",
     "iopub.status.busy": "2022-12-20T04:11:52.275548Z",
     "iopub.status.idle": "2022-12-20T04:11:52.348566Z",
     "shell.execute_reply": "2022-12-20T04:11:52.348077Z",
     "shell.execute_reply.started": "2022-12-20T04:11:52.275779Z"
    },
    "tags": []
   },
   "outputs": [],
   "source": [
    "class rough_Heston_Analytical: \n",
    "    def __init__(self, M, T, params, Omega, Lambda, N, P):\n",
    "        #Time discretization\n",
    "        self.M = M #number of time intervals \n",
    "        self.T = T\n",
    "        self.tau = self.T/self.M\n",
    "        self.grid = np.linspace(0, T, self.M+1)\n",
    "        self.Omega = Omega #(N,) 1-d array: 𝜔_1, 𝜔_2,...,𝜔_N\n",
    "        self.Lambda = Lambda # (N,) 1-d array: 𝜆_1, 𝜆_2,...,𝜆_N       \n",
    "        self.N = N\n",
    "        self.P = P #number of paths to generate       \n",
    "        \n",
    "        #Heston model parameters \n",
    "        self.S0 = params['S0']\n",
    "        self.V0 = params['V0']\n",
    "        self.Gamma = params['Gamma']\n",
    "        self.nu = params['nu']\n",
    "        self.theta = params['theta']\n",
    "        self.rho = params['rho'] \n",
    "        self.H = params['H']\n",
    "        \n",
    "        #Precomputation\n",
    "        self.Omega_t = self.Omega/self.tau\n",
    "        self.E = np.exp(-1*self.Lambda*self.tau)  \n",
    "        self.coef_1 = self.Gamma / gamma(self.H + 0.5) \n",
    "        self.coef_2 = self.coef_1*self.nu       \n",
    "        \n",
    "        \n",
    "    #Brownian motions W and B\n",
    "    def BW(self): \n",
    "        np.random.seed(0)\n",
    "        W = np.sqrt(self.tau)*np.random.normal(loc=0, scale=1, size = [P,M]) \n",
    "        Z = np.sqrt(self.tau)*np.random.normal(loc=0, scale=1, size = [P,M]) \n",
    "        B = self.rho*W + np.sqrt(1-self.rho**2)*Z #W and B correlated with rho\n",
    "        return W, B \n",
    "        \n",
    "    #compute C_1 and C_2 \n",
    "    def C(self):\n",
    "        C_1 = np.zeros((self.M, self.N))\n",
    "        C_2 = np.zeros((self.M, self.N))\n",
    "            \n",
    "        #1st row of C_1 and C_2\n",
    "        t1 = self.grid[1]\n",
    "        for j in range(self.N):\n",
    "            C_1[0,j] = integrate.quad(lambda x: np.exp(-1*self.Lambda[j]*(t1-x))*(t1-x), 0, t1)[0]\n",
    "            C_2[0,j] = integrate.quad(lambda x: np.exp(-1*self.Lambda[j]*(t1-x))*x, 0, t1)[0]\n",
    "        \n",
    "        #2nd ∼ Mth rows of C_1 and C_2\n",
    "        for i in range(1, self.M):\n",
    "            t_a = self.grid[i]\n",
    "            t_b = self.grid[i+1]\n",
    "            for k in range(self.N):\n",
    "                C_1[i,k] = integrate.quad(lambda x: np.exp(-1*self.Lambda[k]*(t_a-x))*(t_b-x), t_a, t_b)[0]\n",
    "                C_2[i,k] = integrate.quad(lambda x: np.exp(-1*self.Lambda[k]*(t_a-x))*(x-t_a), t_a, t_b)[0]\n",
    "        \n",
    "        return C_1, C_2\n",
    "        \n",
    "    #compute Pi_1 and Pi_2\n",
    "    def Pi(self):         \n",
    "        Pi_1 = np.zeros((self.P, self.M, self.N)) #a 3-d array, or total P numbers of M×N 2-d arrays\n",
    "        Pi_2 = np.zeros((self.P, self.M, self.N))\n",
    "        W,B = self.BW()\n",
    "        \n",
    "        #1st row \n",
    "        t1 = self.grid[1]\n",
    "        for i in range(self.P):\n",
    "            for k in range(self.N):\n",
    "                f_1 = integrate.quad(lambda x: np.exp(-2*self.Lambda[k]*(t1-x))*(t1-x)**2, 0, t1)[0]\n",
    "                f_2 = integrate.quad(lambda x: np.exp(-2*self.Lambda[k]*(t1-x))*x**2, 0, t1)[0]\n",
    "                Pi_1[i,0,k] = np.sqrt(f_1)*B[i, 0] \n",
    "                Pi_2[i,0,k] = np.sqrt(f_2)*B[i, 0]\n",
    "            \n",
    "        #2nd ∼ Mth rows \n",
    "        for i in range(self.P):\n",
    "            for j in range(1,self.M):\n",
    "                t_a = self.grid[j]\n",
    "                t_b = self.grid[j+1]\n",
    "                for k in range(self.N):\n",
    "                    f_1 = integrate.quad(lambda x: np.exp(-2*self.Lambda[k]*(t_a-x))*(t_b-x)**2, t_a, t_b)[0]\n",
    "                    f_2 = integrate.quad(lambda x: np.exp(-2*self.Lambda[k]*(t_a-x))*(x-t_a)**2, t_a, t_b)[0]\n",
    "                    Pi_1[i,j,k] = np.sqrt(f_1)*B[i,j]\n",
    "                    Pi_2[i,j,k] = np.sqrt(f_2)*B[i,j]                   \n",
    "     \n",
    "        return Pi_1, Pi_2\n",
    "        \n",
    "    def V_(self):\n",
    "        V = np.zeros((self.P, self.M))          \n",
    "        G = np.zeros((self.P, self.M, self.N))\n",
    "        Phi = np.zeros((self.P, self.M, self.N))\n",
    "        \n",
    "        #multiply Omega_t to C and Pi by row  \n",
    "        C_1, C_2 = self.C()\n",
    "        Pi_1, Pi_2 = self.Pi()\n",
    "        C_1_t = self.Omega_t * C_1\n",
    "        C_2_t = self.Omega_t * C_2  \n",
    "        Pi_1_t = self.Omega_t * Pi_1 \n",
    "        Pi_2_t = self.Omega_t * Pi_2\n",
    "        \n",
    "        #Compute 1st col of V\n",
    "        m_1_1 = self.theta - self.V0\n",
    "        C_s_1 = m_1_1*C_1_t[0,:]\n",
    "        C_a_1 = m_1_1*C_2_t[0,:]\n",
    "        \n",
    "        m_2_1 = np.sqrt(self.V0)\n",
    "        Pi_s_1 = m_2_1*Pi_1_t[:,0,:]\n",
    "        Pi_a_1 = m_2_1*Pi_2_t[:,0,:]\n",
    "        \n",
    "        G[:,0,:] = C_s_1\n",
    "        Phi[:,0,:] = Pi_s_1\n",
    "        \n",
    "        F_a_1 = np.sum(G[:,0,:] + C_a_1, axis = -1)\n",
    "        F_b_1 = np.sum(Phi[:,0,:] + Pi_a_1, axis = -1)\n",
    "        V[:,0] = self.V0 + self.coef_1*F_a_1 + self.coef_2*F_b_1\n",
    "        \n",
    "        #Compute 2nd col of V\n",
    "        m_1_2 = np.reshape(self.theta - V[:,0], (self.P, -1))  #P×1 array\n",
    "        C_s_2 = m_1_2 * np.reshape(C_1_t[1,:], (1,-1)) #reshape into a 1×N array\n",
    "        C_a_2 = m_1_2 * np.reshape(C_2_t[1,:], (1,-1))\n",
    "        C_b_2 = m_1_2 * np.reshape(C_2_t[0,:], (1,-1))\n",
    "        \n",
    "        m_2_2 = np.reshape(np.sqrt(V[:,0]), (self.P, -1)) \n",
    "        Pi_s_2 = m_2_2 * Pi_1_t[:,1,:]\n",
    "        Pi_a_2 = m_2_2 * Pi_2_t[:,1,:]\n",
    "        Pi_b_2 = m_2_2 * Pi_2_t[:,0,:]\n",
    "        \n",
    "        G[:,1,:] = self.E*(G[:,0,:] + C_b_2 + C_s_2)\n",
    "        Phi[:,1,:] = self.E*(Phi[:,0,:] + Pi_b_2 + Pi_s_2)\n",
    "        \n",
    "        F_a_2 = np.sum(G[:,1,:] + self.E*C_a_2, axis = -1)\n",
    "        F_b_2 = np.sum(Phi[:,1,:] + self.E*Pi_a_2, axis = -1)\n",
    "        V[:,1] = self.V0 + self.coef_1*F_a_2 + self.coef_2*F_b_2\n",
    "        \n",
    "        #compute 3rd ∼ Mth cols of V\n",
    "        for j in range(2, self.M):\n",
    "            m_1_j = np.reshape(self.theta - V[:,j-1], (self.P, -1))\n",
    "            C_s_j = m_1_j * np.reshape(C_1_t[j,:], (1,-1))\n",
    "            C_a_j = m_1_j * np.reshape(C_2_t[j,:], (1,-1))\n",
    "            C_b_j = m_1_j * np.reshape(C_2_t[j-1,:], (1,-1))\n",
    "            \n",
    "            m_2_j = np.reshape(np.sqrt(V[:,j-1]), (self.P, -1))\n",
    "            Pi_s_j = m_2_j * Pi_1_t[:,j,:]\n",
    "            Pi_a_j = m_2_j * Pi_2_t[:,j,:]\n",
    "            Pi_b_j = m_2_j * Pi_2_t[:,j-1,:]\n",
    "            \n",
    "            G[:,j,:] = self.E*(G[:,j-1,:] + self.E*C_b_j + C_s_j)\n",
    "            Phi[:,j,:] = self.E*(Phi[:,j-1,:] + self.E*Pi_b_j + Pi_s_j)\n",
    "            \n",
    "            F_a_j = np.sum(G[:,j,:] + self.E*C_a_j, axis = -1)\n",
    "            F_b_j = np.sum(Phi[:,j,:] + self.E*Pi_a_j, axis = -1)\n",
    "            V[:,j] = self.V0 + self.coef_1*F_a_j + self.coef_2*F_b_j\n",
    "            \n",
    "        return V\n",
    "            \n",
    "    def S_(self): #by Forward Euler method \n",
    "        S = np.zeros((self.P, self.M)) \n",
    "        W, B = self.BW()\n",
    "        V = self.V_()\n",
    "        S[:,0] = self.S0 + self.S0*np.sqrt(self.V0)*W[:,0]\n",
    "        \n",
    "        for j in range(1, self.M):\n",
    "            S[:,j] = S[:,j-1] + S[:,j-1]*np.sqrt(V[:,j-1])*W[:,j]\n",
    "        \n",
    "        return S\n",
    "    \n",
    "    #not sure about this part\n",
    "    def call_price_vol(self, k): \n",
    "        #k: log-moneyness \n",
    "        K = self.S0*np.exp(k) #K: strike \n",
    "        \n",
    "        V = self.V_()\n",
    "        S = self.S_()\n",
    "        \n",
    "        #pricing under BS formula \n",
    "        C = np.mean(BS(True, S[:,-1], self.T, 0, np.sqrt(V[:,-1])))       \n",
    "        \n",
    "        #implied_vol\n",
    "        iv = impliedvol(C, self.S0, K, self.T, 0)\n",
    "        \n",
    "        return C, iv        \n",
    "  "
   ]
  },
  {
   "cell_type": "code",
   "execution_count": 5,
   "id": "7a5e7ed9",
   "metadata": {
    "ExecuteTime": {
     "end_time": "2022-12-02T01:32:11.151081Z",
     "start_time": "2022-12-02T01:32:11.140053Z"
    },
    "execution": {
     "iopub.execute_input": "2022-12-20T04:11:54.083554Z",
     "iopub.status.busy": "2022-12-20T04:11:54.083295Z",
     "iopub.status.idle": "2022-12-20T04:11:54.086376Z",
     "shell.execute_reply": "2022-12-20T04:11:54.085913Z",
     "shell.execute_reply.started": "2022-12-20T04:11:54.083536Z"
    },
    "tags": []
   },
   "outputs": [],
   "source": [
    "a = -0.62 #H = 0.12\n",
    "delta_t = 0.001\n",
    "n = 30\n",
    "Omega, Lambda = para(a, delta_t, n)"
   ]
  },
  {
   "cell_type": "code",
   "execution_count": 6,
   "id": "e3080f1f",
   "metadata": {
    "ExecuteTime": {
     "end_time": "2022-12-02T01:32:11.702220Z",
     "start_time": "2022-12-02T01:32:11.685185Z"
    },
    "execution": {
     "iopub.execute_input": "2022-12-20T04:11:55.379714Z",
     "iopub.status.busy": "2022-12-20T04:11:55.379451Z",
     "iopub.status.idle": "2022-12-20T04:11:55.382975Z",
     "shell.execute_reply": "2022-12-20T04:11:55.382515Z",
     "shell.execute_reply.started": "2022-12-20T04:11:55.379696Z"
    },
    "tags": []
   },
   "outputs": [],
   "source": [
    "#input parameters \n",
    "M = 500\n",
    "T = 0.5 #tau = 0.001\n",
    "S0 = 1\n",
    "V0 = 0.0392\n",
    "Gamma = 0.1\n",
    "nu = 0.331\n",
    "theta = 0.3156\n",
    "rho = -0.01\n",
    "H = 0.12 \n",
    "Heston_params = {'S0': S0, 'V0': V0, 'Gamma': Gamma, 'nu': nu, 'theta': theta, 'rho': rho, 'H': H}\n",
    "N = 61 #take n = 30\n",
    "P = 10000"
   ]
  },
  {
   "cell_type": "code",
   "execution_count": 7,
   "id": "feef4153",
   "metadata": {
    "ExecuteTime": {
     "end_time": "2022-12-02T01:32:12.268627Z",
     "start_time": "2022-12-02T01:32:12.260542Z"
    },
    "execution": {
     "iopub.execute_input": "2022-12-20T04:11:57.171908Z",
     "iopub.status.busy": "2022-12-20T04:11:57.171651Z",
     "iopub.status.idle": "2022-12-20T04:11:57.180808Z",
     "shell.execute_reply": "2022-12-20T04:11:57.180350Z",
     "shell.execute_reply.started": "2022-12-20T04:11:57.171887Z"
    },
    "tags": []
   },
   "outputs": [
    {
     "name": "stdout",
     "output_type": "stream",
     "text": [
      "[0.02010934 0.02010931 0.02010931 0.02010931 0.02010931 0.02010931\n",
      " 0.02010931 0.02010931 0.02010931 0.02010931 0.02010931 0.02010931\n",
      " 0.02010931 0.02010931 0.02010932 0.02010932 0.02010932 0.02010931\n",
      " 0.02010931 0.0201093  0.0201093  0.02010929 0.0201093  0.0201093\n",
      " 0.02010931 0.02010932 0.02010933 0.02010933 0.02010934 0.02010934\n",
      " 0.02010933 0.02010932 0.02010932 0.0201093  0.02010929 0.02010928\n",
      " 0.02010928 0.02010927 0.02010927 0.02010927 0.02010927 0.02010928\n",
      " 0.02010929 0.0201093  0.02010931 0.02010932 0.02010933 0.02010934\n",
      " 0.02010935 0.02010935 0.02010936 0.02010936 0.02010936 0.02010936\n",
      " 0.02010935 0.02010935 0.02010934 0.02010933 0.02010932 0.02010931\n",
      " 0.0201093  0.02010929 0.02010928 0.02010927 0.02010926 0.02010925\n",
      " 0.02010925 0.02010924 0.02010924 0.02010924 0.02010924 0.02010924\n",
      " 0.02010925 0.02010925 0.02010926 0.02010926 0.02010927 0.02010928\n",
      " 0.02010929 0.0201093  0.02010931 0.02010932 0.02010932 0.02010933\n",
      " 0.02010934 0.02010935 0.02010935 0.02010936 0.02010936 0.02010937\n",
      " 0.02010937 0.02010937 0.02010937 0.02010937 0.02010937 0.02010937\n",
      " 0.02010936 0.02010936 0.02010935 0.02010935 0.02010934 0.02010934\n",
      " 0.02010933 0.02010932 0.02010932 0.02010931 0.0201093  0.02010929\n",
      " 0.02010929 0.02010928 0.02010927 0.02010926 0.02010926 0.02010925\n",
      " 0.02010925 0.02010924 0.02010924 0.02010923 0.02010923 0.02010923\n",
      " 0.02010923 0.02010922 0.02010922 0.02010922 0.02010922 0.02010922\n",
      " 0.02010922 0.02010923 0.02010923 0.02010923 0.02010924 0.02010924\n",
      " 0.02010924 0.02010925 0.02010925 0.02010926 0.02010926 0.02010927\n",
      " 0.02010927 0.02010928 0.02010928 0.02010929 0.02010929 0.0201093\n",
      " 0.02010931 0.02010931 0.02010932 0.02010932 0.02010933 0.02010933\n",
      " 0.02010934 0.02010934 0.02010934 0.02010935 0.02010935 0.02010935\n",
      " 0.02010936 0.02010936 0.02010936 0.02010936 0.02010936 0.02010936\n",
      " 0.02010937 0.02010937 0.02010937 0.02010937 0.02010936 0.02010936\n",
      " 0.02010936 0.02010936 0.02010936 0.02010936 0.02010935 0.02010935\n",
      " 0.02010935 0.02010935 0.02010934 0.02010934 0.02010934 0.02010933\n",
      " 0.02010933 0.02010932 0.02010932 0.02010932 0.02010931 0.02010931\n",
      " 0.0201093  0.0201093  0.02010929 0.02010929 0.02010928 0.02010928\n",
      " 0.02010928 0.02010927 0.02010927 0.02010926 0.02010926 0.02010926\n",
      " 0.02010925 0.02010925 0.02010924 0.02010924 0.02010924 0.02010923\n",
      " 0.02010923 0.02010923 0.02010923 0.02010922 0.02010922 0.02010922\n",
      " 0.02010922 0.02010922 0.02010921 0.02010921 0.02010921 0.02010921\n",
      " 0.02010921 0.02010921 0.02010921 0.02010921 0.02010921 0.02010921\n",
      " 0.02010921 0.02010921 0.02010921 0.02010921 0.02010921 0.02010922\n",
      " 0.02010922 0.02010922 0.02010922 0.02010922 0.02010922 0.02010923\n",
      " 0.02010923 0.02010923 0.02010923 0.02010923 0.02010924 0.02010924\n",
      " 0.02010924 0.02010924 0.02010925 0.02010925 0.02010925 0.02010926\n",
      " 0.02010926 0.02010926 0.02010926 0.02010927 0.02010927 0.02010927\n",
      " 0.02010928 0.02010928 0.02010928 0.02010929 0.02010929 0.02010929\n",
      " 0.02010929 0.0201093  0.0201093  0.0201093  0.02010931 0.02010931\n",
      " 0.02010931 0.02010931 0.02010932 0.02010932 0.02010932 0.02010932\n",
      " 0.02010932 0.02010933 0.02010933 0.02010933 0.02010933 0.02010933\n",
      " 0.02010933 0.02010934 0.02010934 0.02010934 0.02010934 0.02010934\n",
      " 0.02010934 0.02010934 0.02010934 0.02010934 0.02010934 0.02010934\n",
      " 0.02010934 0.02010934 0.02010934 0.02010934 0.02010934 0.02010934\n",
      " 0.02010934 0.02010934 0.02010934 0.02010934 0.02010934 0.02010934\n",
      " 0.02010934 0.02010934 0.02010934 0.02010934 0.02010933 0.02010933\n",
      " 0.02010933 0.02010933 0.02010933 0.02010933 0.02010933 0.02010932\n",
      " 0.02010932 0.02010932 0.02010932 0.02010932 0.02010931 0.02010931\n",
      " 0.02010931 0.02010931 0.02010931 0.0201093  0.0201093  0.0201093\n",
      " 0.0201093  0.02010929 0.02010929 0.02010929 0.02010929 0.02010929\n",
      " 0.02010928 0.02010928 0.02010928 0.02010928 0.02010927 0.02010927\n",
      " 0.02010927 0.02010927 0.02010926 0.02010926 0.02010926 0.02010926\n",
      " 0.02010926 0.02010925 0.02010925 0.02010925 0.02010925 0.02010924\n",
      " 0.02010924 0.02010924 0.02010924 0.02010924 0.02010923 0.02010923\n",
      " 0.02010923 0.02010923 0.02010923 0.02010922 0.02010922 0.02010922\n",
      " 0.02010922 0.02010922 0.02010922 0.02010921 0.02010921 0.02010921\n",
      " 0.02010921 0.02010921 0.02010921 0.02010921 0.02010921 0.0201092\n",
      " 0.0201092  0.0201092  0.0201092  0.0201092  0.0201092  0.0201092\n",
      " 0.0201092  0.0201092  0.0201092  0.0201092  0.0201092  0.0201092\n",
      " 0.02010919 0.02010919 0.02010919 0.02010919 0.02010919 0.02010919\n",
      " 0.02010919 0.02010919 0.02010919 0.02010919 0.02010919 0.02010919\n",
      " 0.02010919 0.02010919 0.02010919 0.0201092  0.0201092  0.0201092\n",
      " 0.0201092  0.0201092  0.0201092  0.0201092  0.0201092  0.0201092\n",
      " 0.0201092  0.0201092  0.0201092  0.0201092  0.0201092  0.0201092\n",
      " 0.02010921 0.02010921 0.02010921 0.02010921 0.02010921 0.02010921\n",
      " 0.02010921 0.02010921 0.02010921 0.02010922 0.02010922 0.02010922\n",
      " 0.02010922 0.02010922 0.02010922 0.02010922 0.02010922 0.02010923\n",
      " 0.02010923 0.02010923 0.02010923 0.02010923 0.02010923 0.02010923\n",
      " 0.02010924 0.02010924 0.02010924 0.02010924 0.02010924 0.02010924\n",
      " 0.02010924 0.02010925 0.02010925 0.02010925 0.02010925 0.02010925\n",
      " 0.02010925 0.02010925 0.02010926 0.02010926 0.02010926 0.02010926\n",
      " 0.02010926 0.02010926 0.02010926 0.02010927 0.02010927 0.02010927\n",
      " 0.02010927 0.02010927 0.02010927 0.02010927 0.02010927 0.02010928\n",
      " 0.02010928 0.02010928 0.02010928 0.02010928 0.02010928 0.02010928\n",
      " 0.02010928 0.02010928 0.02010929 0.02010929 0.02010929 0.02010929\n",
      " 0.02010929 0.02010929 0.02010929 0.02010929 0.02010929 0.02010929\n",
      " 0.02010929 0.0201093  0.0201093  0.0201093  0.0201093  0.0201093\n",
      " 0.0201093  0.0201093  0.0201093  0.0201093  0.0201093  0.0201093\n",
      " 0.0201093  0.0201093 ]\n",
      "[0.00145679 0.00189578 0.00221158 0.00246706 0.00268538 0.00287803\n",
      " 0.00305165 0.00321049 0.00335745 0.0034946  0.00362348 0.00374529\n",
      " 0.00386096 0.00397124 0.00407673 0.00417795 0.00427531 0.00436919\n",
      " 0.00445988 0.00454766 0.00463276 0.00471539 0.00479572 0.00487391\n",
      " 0.0049501  0.00502444 0.00509701 0.00516794 0.00523732 0.00530522\n",
      " 0.00537174 0.00543694 0.00550089 0.00556364 0.00562526 0.0056858\n",
      " 0.00574531 0.00580382 0.00586139 0.00591806 0.00597385 0.0060288\n",
      " 0.00608296 0.00613633 0.00618896 0.00624087 0.00629209 0.00634263\n",
      " 0.00639253 0.00644179 0.00649045 0.00653852 0.00658602 0.00663297\n",
      " 0.00667938 0.00672526 0.00677065 0.00681554 0.00685995 0.0069039\n",
      " 0.0069474  0.00699046 0.00703308 0.0070753  0.0071171  0.00715851\n",
      " 0.00719953 0.00724018 0.00728045 0.00732037 0.00735993 0.00739915\n",
      " 0.00743804 0.0074766  0.00751483 0.00755275 0.00759037 0.00762768\n",
      " 0.0076647  0.00770143 0.00773787 0.00777404 0.00780993 0.00784556\n",
      " 0.00788092 0.00791603 0.00795088 0.00798549 0.00801985 0.00805398\n",
      " 0.00808787 0.00812153 0.00815496 0.00818817 0.00822117 0.00825394\n",
      " 0.00828651 0.00831887 0.00835102 0.00838297 0.00841473 0.00844629\n",
      " 0.00847766 0.00850884 0.00853983 0.00857064 0.00860127 0.00863173\n",
      " 0.00866201 0.00869212 0.00872206 0.00875183 0.00878144 0.00881089\n",
      " 0.00884018 0.00886931 0.00889828 0.00892711 0.00895578 0.0089843\n",
      " 0.00901268 0.00904091 0.009069   0.00909694 0.00912475 0.00915242\n",
      " 0.00917996 0.00920736 0.00923463 0.00926177 0.00928878 0.00931566\n",
      " 0.00934242 0.00936905 0.00939556 0.00942195 0.00944822 0.00947437\n",
      " 0.0095004  0.00952632 0.00955212 0.00957781 0.00960339 0.00962886\n",
      " 0.00965421 0.00967946 0.00970461 0.00972964 0.00975457 0.0097794\n",
      " 0.00980413 0.00982875 0.00985328 0.0098777  0.00990203 0.00992626\n",
      " 0.00995039 0.00997443 0.00999837 0.01002222 0.01004598 0.01006964\n",
      " 0.01009322 0.0101167  0.0101401  0.01016341 0.01018663 0.01020977\n",
      " 0.01023282 0.01025578 0.01027867 0.01030146 0.01032418 0.01034682\n",
      " 0.01036937 0.01039185 0.01041424 0.01043656 0.0104588  0.01048096\n",
      " 0.01050305 0.01052506 0.010547   0.01056886 0.01059065 0.01061236\n",
      " 0.010634   0.01065557 0.01067707 0.0106985  0.01071986 0.01074116\n",
      " 0.01076238 0.01078353 0.01080462 0.01082564 0.01084659 0.01086748\n",
      " 0.0108883  0.01090906 0.01092975 0.01095038 0.01097095 0.01099145\n",
      " 0.01101189 0.01103227 0.01105259 0.01107285 0.01109305 0.01111319\n",
      " 0.01113326 0.01115328 0.01117325 0.01119315 0.011213   0.01123279\n",
      " 0.01125252 0.01127219 0.01129182 0.01131138 0.01133089 0.01135035\n",
      " 0.01136975 0.0113891  0.01140839 0.01142763 0.01144682 0.01146596\n",
      " 0.01148504 0.01150408 0.01152306 0.01154199 0.01156087 0.0115797\n",
      " 0.01159848 0.01161721 0.0116359  0.01165453 0.01167312 0.01169165\n",
      " 0.01171014 0.01172858 0.01174698 0.01176533 0.01178363 0.01180188\n",
      " 0.01182009 0.01183826 0.01185638 0.01187445 0.01189248 0.01191046\n",
      " 0.0119284  0.0119463  0.01196415 0.01198196 0.01199973 0.01201745\n",
      " 0.01203513 0.01205277 0.01207036 0.01208792 0.01210543 0.0121229\n",
      " 0.01214033 0.01215772 0.01217507 0.01219238 0.01220965 0.01222688\n",
      " 0.01224407 0.01226122 0.01227833 0.0122954  0.01231244 0.01232943\n",
      " 0.01234639 0.01236331 0.01238019 0.01239703 0.01241384 0.01243061\n",
      " 0.01244734 0.01246404 0.0124807  0.01249732 0.01251391 0.01253046\n",
      " 0.01254698 0.01256346 0.0125799  0.01259631 0.01261269 0.01262903\n",
      " 0.01264533 0.0126616  0.01267784 0.01269404 0.01271021 0.01272635\n",
      " 0.01274245 0.01275852 0.01277456 0.01279056 0.01280653 0.01282247\n",
      " 0.01283838 0.01285425 0.0128701  0.01288591 0.01290169 0.01291743\n",
      " 0.01293315 0.01294883 0.01296449 0.01298011 0.0129957  0.01301127\n",
      " 0.0130268  0.0130423  0.01305777 0.01307321 0.01308862 0.013104\n",
      " 0.01311936 0.01313468 0.01314998 0.01316524 0.01318048 0.01319568\n",
      " 0.01321086 0.01322602 0.01324114 0.01325623 0.0132713  0.01328634\n",
      " 0.01330135 0.01331633 0.01333129 0.01334622 0.01336112 0.01337599\n",
      " 0.01339084 0.01340566 0.01342045 0.01343522 0.01344996 0.01346467\n",
      " 0.01347936 0.01349402 0.01350866 0.01352327 0.01353786 0.01355242\n",
      " 0.01356695 0.01358146 0.01359594 0.0136104  0.01362483 0.01363924\n",
      " 0.01365362 0.01366798 0.01368232 0.01369663 0.01371091 0.01372517\n",
      " 0.01373941 0.01375362 0.01376781 0.01378198 0.01379612 0.01381024\n",
      " 0.01382433 0.01383841 0.01385245 0.01386648 0.01388048 0.01389446\n",
      " 0.01390842 0.01392235 0.01393626 0.01395015 0.01396401 0.01397786\n",
      " 0.01399168 0.01400548 0.01401925 0.01403301 0.01404674 0.01406045\n",
      " 0.01407414 0.01408781 0.01410145 0.01411508 0.01412868 0.01414226\n",
      " 0.01415582 0.01416936 0.01418288 0.01419638 0.01420985 0.01422331\n",
      " 0.01423674 0.01425016 0.01426355 0.01427692 0.01429028 0.01430361\n",
      " 0.01431692 0.01433021 0.01434349 0.01435674 0.01436997 0.01438318\n",
      " 0.01439638 0.01440955 0.0144227  0.01443584 0.01444895 0.01446205\n",
      " 0.01447512 0.01448818 0.01450122 0.01451424 0.01452723 0.01454022\n",
      " 0.01455318 0.01456612 0.01457904 0.01459195 0.01460484 0.0146177\n",
      " 0.01463055 0.01464339 0.0146562  0.01466899 0.01468177 0.01469453\n",
      " 0.01470727 0.01471999 0.0147327  0.01474539 0.01475805 0.01477071\n",
      " 0.01478334 0.01479596 0.01480855 0.01482114 0.0148337  0.01484625\n",
      " 0.01485878 0.01487129 0.01488378 0.01489626 0.01490872 0.01492117\n",
      " 0.01493359 0.014946   0.0149584  0.01497077 0.01498313 0.01499547\n",
      " 0.0150078  0.01502011 0.01503241 0.01504468 0.01505694 0.01506919\n",
      " 0.01508142 0.01509363 0.01510583 0.01511801 0.01513017 0.01514232\n",
      " 0.01515445 0.01516657 0.01517867 0.01519075 0.01520282 0.01521487\n",
      " 0.01522691 0.01523894 0.01525094 0.01526293 0.01527491 0.01528687\n",
      " 0.01529882 0.01531075 0.01532266 0.01533456 0.01534645 0.01535832\n",
      " 0.01537017 0.01538201 0.01539384 0.01540565 0.01541744 0.01542923\n",
      " 0.01544099 0.01545274]\n"
     ]
    }
   ],
   "source": [
    "#approximation error for sum of exponentials \n",
    "mygrid = np.linspace(delta_t, T, M) #(M,) 1-d array\n",
    "true_val = mygrid ** (-a-1)\n",
    "\n",
    "appro = np.sum(Omega * np.exp(np.reshape(mygrid, (M,-1)) * np.reshape(-Lambda, (1,-1))),axis = -1)\n",
    "abs_err = np.abs(true_val - appro)\n",
    "err_rate = abs_err/true_val\n",
    "print(abs_err)\n",
    "print(err_rate)"
   ]
  },
  {
   "cell_type": "code",
   "execution_count": 8,
   "id": "090c7ab2",
   "metadata": {
    "ExecuteTime": {
     "end_time": "2022-12-02T01:32:13.131178Z",
     "start_time": "2022-12-02T01:32:13.128140Z"
    },
    "execution": {
     "iopub.execute_input": "2022-12-20T04:12:05.111666Z",
     "iopub.status.busy": "2022-12-20T04:12:05.111410Z",
     "iopub.status.idle": "2022-12-20T04:12:05.114578Z",
     "shell.execute_reply": "2022-12-20T04:12:05.114142Z",
     "shell.execute_reply.started": "2022-12-20T04:12:05.111648Z"
    },
    "tags": []
   },
   "outputs": [],
   "source": [
    "heston = rough_Heston_Analytical(M, T, Heston_params, Omega, Lambda, N, P)"
   ]
  },
  {
   "cell_type": "code",
   "execution_count": null,
   "id": "91069019",
   "metadata": {
    "ExecuteTime": {
     "end_time": "2022-12-02T01:32:47.102347Z",
     "start_time": "2022-12-02T01:32:13.692841Z"
    }
   },
   "outputs": [],
   "source": [
    "#heston.V_()"
   ]
  },
  {
   "cell_type": "code",
   "execution_count": null,
   "id": "542d149a",
   "metadata": {
    "ExecuteTime": {
     "end_time": "2022-12-02T01:33:24.145077Z",
     "start_time": "2022-12-02T01:32:51.181314Z"
    },
    "tags": []
   },
   "outputs": [],
   "source": [
    "my_S = heston.S_()"
   ]
  },
  {
   "cell_type": "code",
   "execution_count": null,
   "id": "5b7290ef-b3d9-4528-920f-58b010419dfe",
   "metadata": {},
   "outputs": [],
   "source": [
    "#save paths of S_t\n",
    "my_S.tofile(\"my_S.bin\")"
   ]
  },
  {
   "cell_type": "code",
   "execution_count": 12,
   "id": "a14ff695",
   "metadata": {
    "execution": {
     "iopub.execute_input": "2022-12-20T04:19:36.711331Z",
     "iopub.status.busy": "2022-12-20T04:19:36.711076Z",
     "iopub.status.idle": "2022-12-20T04:19:36.733828Z",
     "shell.execute_reply": "2022-12-20T04:19:36.733363Z",
     "shell.execute_reply.started": "2022-12-20T04:19:36.711314Z"
    }
   },
   "outputs": [],
   "source": [
    "my_S = np.reshape(np.fromfile(\"my_S.bin\", dtype = np.float64), (P, M))"
   ]
  },
  {
   "cell_type": "code",
   "execution_count": null,
   "id": "e1eaa1b9-d7a5-4aa1-90aa-2e3914e1136e",
   "metadata": {
    "ExecuteTime": {
     "end_time": "2022-12-02T01:33:26.302491Z",
     "start_time": "2022-12-02T01:33:26.288491Z"
    },
    "tags": []
   },
   "outputs": [],
   "source": [
    "my_X = np.log(my_S)\n",
    "\n",
    "#compute the 1st and 2nd moment of r.v.s X_1, X_2,...,X_M\n",
    "my_moment = np.array([[np.mean(my_X[:,i]) for i in range(M)], [np.mean(my_X[:,j]**2) for j in range(M)]])\n",
    "\n",
    "#save my_moment \n",
    "my_moment.tofile(\"my_moment.bin\")"
   ]
  },
  {
   "cell_type": "code",
   "execution_count": null,
   "id": "02c19001",
   "metadata": {
    "ExecuteTime": {
     "end_time": "2022-12-02T01:33:36.876798Z",
     "start_time": "2022-12-02T01:33:36.859789Z"
    },
    "tags": []
   },
   "outputs": [],
   "source": [
    "#load the ref_moment \n",
    "ref_moment = np.reshape(np.fromfile(\"ref_moment.bin\", dtype = np.float64),(2,500))"
   ]
  },
  {
   "cell_type": "code",
   "execution_count": null,
   "id": "cacc3dcc",
   "metadata": {
    "ExecuteTime": {
     "end_time": "2022-12-02T01:33:38.780470Z",
     "start_time": "2022-12-02T01:33:38.552952Z"
    },
    "tags": []
   },
   "outputs": [],
   "source": [
    "x = heston.grid[1:]\n",
    "my_M_1, my_M_2 = my_moment[0,:], my_moment[1,:]\n",
    "ref_M_1, ref_M_2 = ref_moment[0,:], ref_moment[1,:]\n",
    "\n",
    "# 1st order moment plot \n",
    "plt.figure(figsize=(10, 5))\n",
    "plt.subplot(1,2,1)\n",
    "l_1,= plt.plot(x, my_M_1)\n",
    "l_2,= plt.plot(x, ref_M_1)\n",
    "plt.xlabel(\"t\")\n",
    "plt.legend(handles = [l_1,l_2], labels=[\"SOE\",\"ref_sol\"], loc = 'best')\n",
    "plt.title(\"1st order moment\")\n",
    "\n",
    "#2nd order moment plot \n",
    "plt.subplot(1,2,2)\n",
    "r_1,= plt.plot(x, my_M_2)\n",
    "r_2,= plt.plot(x, ref_M_2)\n",
    "plt.xlabel(\"t\")\n",
    "plt.legend(handles = [r_1,r_2], labels=[\"SOE\",\"ref_sol\"], loc = 'best')\n",
    "plt.title(\"2nd order moment\")\n",
    "plt.show()"
   ]
  },
  {
   "cell_type": "code",
   "execution_count": 13,
   "id": "d6296985-784d-427e-a5be-8b761444fe0d",
   "metadata": {
    "execution": {
     "iopub.execute_input": "2022-12-20T04:25:47.192229Z",
     "iopub.status.busy": "2022-12-20T04:25:47.191914Z",
     "iopub.status.idle": "2022-12-20T04:25:47.195138Z",
     "shell.execute_reply": "2022-12-20T04:25:47.194693Z",
     "shell.execute_reply.started": "2022-12-20T04:25:47.192208Z"
    }
   },
   "outputs": [],
   "source": [
    "my_S_T = np.reshape(my_S[:,-1],-1)"
   ]
  },
  {
   "cell_type": "code",
   "execution_count": 18,
   "id": "8058963a-3534-4f83-b919-3cc840ec9625",
   "metadata": {
    "execution": {
     "iopub.execute_input": "2022-12-20T04:35:40.101261Z",
     "iopub.status.busy": "2022-12-20T04:35:40.100998Z",
     "iopub.status.idle": "2022-12-20T04:35:40.104238Z",
     "shell.execute_reply": "2022-12-20T04:35:40.103855Z",
     "shell.execute_reply.started": "2022-12-20T04:35:40.101244Z"
    },
    "tags": []
   },
   "outputs": [
    {
     "data": {
      "text/plain": [
       "(10000,)"
      ]
     },
     "execution_count": 18,
     "metadata": {},
     "output_type": "execute_result"
    }
   ],
   "source": [
    "my_S_T.shape"
   ]
  },
  {
   "cell_type": "code",
   "execution_count": 16,
   "id": "f1b3e39f-b421-4e84-93b7-07dc6f61d471",
   "metadata": {
    "execution": {
     "iopub.execute_input": "2022-12-20T04:28:33.769256Z",
     "iopub.status.busy": "2022-12-20T04:28:33.768934Z",
     "iopub.status.idle": "2022-12-20T04:28:33.772689Z",
     "shell.execute_reply": "2022-12-20T04:28:33.772156Z",
     "shell.execute_reply.started": "2022-12-20T04:28:33.769234Z"
    }
   },
   "outputs": [],
   "source": [
    "logMoneyness = np.linspace(-0.25, 0.25, 10)\n",
    "strikes = np.array([S0*np.exp(k) for k in logMoneyness])"
   ]
  },
  {
   "cell_type": "code",
   "execution_count": 27,
   "id": "adb0869c-1d3f-47f6-859c-eb482b1ba63a",
   "metadata": {
    "execution": {
     "iopub.execute_input": "2022-12-20T04:45:23.205182Z",
     "iopub.status.busy": "2022-12-20T04:45:23.204917Z",
     "iopub.status.idle": "2022-12-20T04:45:23.208879Z",
     "shell.execute_reply": "2022-12-20T04:45:23.208501Z",
     "shell.execute_reply.started": "2022-12-20T04:45:23.205161Z"
    },
    "tags": []
   },
   "outputs": [],
   "source": [
    "#payoff function H.shape （10， 10000）\n",
    "H = np.tile(my_S_T, (10,1))\n",
    "K = np.tile(np.reshape(strikes,(10,-1)), (1,10000))\n"
   ]
  },
  {
   "cell_type": "code",
   "execution_count": 40,
   "id": "a9e55cc7-8eca-4fd3-9356-cced9a454fc7",
   "metadata": {
    "execution": {
     "iopub.execute_input": "2022-12-20T04:52:48.678101Z",
     "iopub.status.busy": "2022-12-20T04:52:48.677824Z",
     "iopub.status.idle": "2022-12-20T04:52:48.682035Z",
     "shell.execute_reply": "2022-12-20T04:52:48.681648Z",
     "shell.execute_reply.started": "2022-12-20T04:52:48.678086Z"
    },
    "tags": []
   },
   "outputs": [
    {
     "name": "stdout",
     "output_type": "stream",
     "text": [
      "[0.22486352 0.18457082 0.14536686 0.10913827 0.07757952 0.05171582\n",
      " 0.03180946 0.01789142 0.0092501  0.00428793]\n"
     ]
    }
   ],
   "source": [
    "my_H = H - K\n",
    "my_H[my_H < 0] = 0\n",
    "my_price = np.mean(my_H, -1)\n",
    "print(my_price)"
   ]
  },
  {
   "cell_type": "code",
   "execution_count": 42,
   "id": "388f4a17-c3af-4762-a864-fac7b12d1e0b",
   "metadata": {
    "execution": {
     "iopub.execute_input": "2022-12-20T04:56:04.732761Z",
     "iopub.status.busy": "2022-12-20T04:56:04.732503Z",
     "iopub.status.idle": "2022-12-20T04:56:04.735483Z",
     "shell.execute_reply": "2022-12-20T04:56:04.735026Z",
     "shell.execute_reply.started": "2022-12-20T04:56:04.732745Z"
    },
    "tags": []
   },
   "outputs": [],
   "source": [
    "ref_price = np.reshape(np.fromfile(\"ref_price.bin\", dtype = np.float64), -1)"
   ]
  },
  {
   "cell_type": "code",
   "execution_count": 46,
   "id": "6bdfb1fc-14bb-44b2-905d-a6d334f0da88",
   "metadata": {
    "execution": {
     "iopub.execute_input": "2022-12-20T04:59:56.940742Z",
     "iopub.status.busy": "2022-12-20T04:59:56.940485Z",
     "iopub.status.idle": "2022-12-20T04:59:56.944414Z",
     "shell.execute_reply": "2022-12-20T04:59:56.943918Z",
     "shell.execute_reply.started": "2022-12-20T04:59:56.940725Z"
    }
   },
   "outputs": [
    {
     "data": {
      "text/plain": [
       "array([0.22424866, 0.1836631 , 0.14411865, 0.10738331, 0.07528436,\n",
       "       0.04922805, 0.02978511, 0.01656082, 0.00841414, 0.00388907])"
      ]
     },
     "execution_count": 46,
     "metadata": {},
     "output_type": "execute_result"
    }
   ],
   "source": [
    "print(ref_price)"
   ]
  },
  {
   "cell_type": "code",
   "execution_count": 49,
   "id": "10470275-9214-49b3-b3e6-cf3db2fe7962",
   "metadata": {
    "execution": {
     "iopub.execute_input": "2022-12-20T05:08:21.979346Z",
     "iopub.status.busy": "2022-12-20T05:08:21.979073Z",
     "iopub.status.idle": "2022-12-20T05:08:22.093524Z",
     "shell.execute_reply": "2022-12-20T05:08:22.093162Z",
     "shell.execute_reply.started": "2022-12-20T05:08:21.979329Z"
    },
    "tags": []
   },
   "outputs": [
    {
     "data": {
      "text/plain": [
       "Text(0.5, 1.0, 'Price of European call option')"
      ]
     },
     "execution_count": 49,
     "metadata": {},
     "output_type": "execute_result"
    },
    {
     "data": {
      "image/png": "[encoded data removed]",
      "text/plain": [
       "<Figure size 500x300 with 1 Axes>"
      ]
     },
     "metadata": {},
     "output_type": "display_data"
    }
   ],
   "source": [
    "x = logMoneyness\n",
    "y_1, y_2 = my_price, ref_price\n",
    "# 1st order moment plot \n",
    "plt.figure(figsize=(5, 3))\n",
    "c_1,= plt.plot(x, y_1)\n",
    "c_2,= plt.plot(x, y_2)\n",
    "plt.xlabel(\"logmoneyness\")\n",
    "plt.legend(handles = [c_1,c_2], labels=[\"SOE_price\",\"ref_price\"], loc = 'best')\n",
    "plt.title(\"Price of European call option\")\n",
    "\n"
   ]
  },
  {
   "cell_type": "code",
   "execution_count": null,
   "id": "cf071e16-a28e-458b-a707-8ca1fec252df",
   "metadata": {},
   "outputs": [],
   "source": []
  }
 ],
 "metadata": {
  "kernelspec": {
   "display_name": "Environment(myproject)",
   "language": "python",
   "name": "myproject"
  },
  "language_info": {
   "codemirror_mode": {
    "name": "ipython",
    "version": 3
   },
   "file_extension": ".py",
   "mimetype": "text/x-python",
   "name": "python",
   "nbconvert_exporter": "python",
   "pygments_lexer": "ipython3",
   "version": "3.11.0"
  }
 },
 "nbformat": 4,
 "nbformat_minor": 5
}
